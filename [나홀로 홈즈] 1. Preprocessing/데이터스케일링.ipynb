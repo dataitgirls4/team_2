{
 "cells": [
  {
   "cell_type": "markdown",
   "metadata": {},
   "source": [
    "# 데이터 스케일링"
   ]
  },
  {
   "cell_type": "code",
   "execution_count": 3,
   "metadata": {},
   "outputs": [],
   "source": [
    "import pandas as pd\n",
    "import seaborn as sns\n",
    "import numpy as np\n",
    "import matplotlib.pyplot as plt"
   ]
  },
  {
   "cell_type": "markdown",
   "metadata": {},
   "source": [
    "### 1. 이상치 처리\n",
    "이상치를 설정하는 것에 ESD/기하평균/사분위수 방법이 있다. 여기선 ESD방식으로 이상치를 처리해주었다. 그 이유로 3번은 이상치로 분류되는 값의 개수가 너무 많고, 1로 하면 이상치 개수는 적어지지만 왜도가 3번 방법에 비해 높았다. but 왜도를 더 줄이는 것을 포기하고 이상치 개수를 줄이는 것 선택, 즉 ESD방법으로 이상치를 처리했다.   \n",
    "- 이상값의 인식 방법\n",
    "- 평균으로부터 3 표준편차 떨어진 값을 이상치로 판단"
   ]
  },
  {
   "cell_type": "code",
   "execution_count": 59,
   "metadata": {
    "scrolled": false
   },
   "outputs": [
    {
     "data": {
      "text/html": [
       "<div>\n",
       "<style scoped>\n",
       "    .dataframe tbody tr th:only-of-type {\n",
       "        vertical-align: middle;\n",
       "    }\n",
       "\n",
       "    .dataframe tbody tr th {\n",
       "        vertical-align: top;\n",
       "    }\n",
       "\n",
       "    .dataframe thead th {\n",
       "        text-align: right;\n",
       "    }\n",
       "</style>\n",
       "<table border=\"1\" class=\"dataframe\">\n",
       "  <thead>\n",
       "    <tr style=\"text-align: right;\">\n",
       "      <th></th>\n",
       "      <th>dong_code</th>\n",
       "      <th>drunk_value</th>\n",
       "      <th>light_value</th>\n",
       "      <th>vet_value</th>\n",
       "      <th>park_value</th>\n",
       "      <th>cvs_value</th>\n",
       "      <th>cafe_value</th>\n",
       "      <th>restaurant_value</th>\n",
       "      <th>coin_value</th>\n",
       "      <th>bike_value</th>\n",
       "      <th>nail_value</th>\n",
       "      <th>derma_value</th>\n",
       "      <th>health_value</th>\n",
       "      <th>bus_value</th>\n",
       "      <th>subway_value</th>\n",
       "    </tr>\n",
       "    <tr>\n",
       "      <th>dong</th>\n",
       "      <th></th>\n",
       "      <th></th>\n",
       "      <th></th>\n",
       "      <th></th>\n",
       "      <th></th>\n",
       "      <th></th>\n",
       "      <th></th>\n",
       "      <th></th>\n",
       "      <th></th>\n",
       "      <th></th>\n",
       "      <th></th>\n",
       "      <th></th>\n",
       "      <th></th>\n",
       "      <th></th>\n",
       "      <th></th>\n",
       "    </tr>\n",
       "  </thead>\n",
       "  <tbody>\n",
       "    <tr>\n",
       "      <th>사직동</th>\n",
       "      <td>1101053</td>\n",
       "      <td>42</td>\n",
       "      <td>527</td>\n",
       "      <td>1</td>\n",
       "      <td>3</td>\n",
       "      <td>21</td>\n",
       "      <td>120</td>\n",
       "      <td>740</td>\n",
       "      <td>1</td>\n",
       "      <td>14</td>\n",
       "      <td>10</td>\n",
       "      <td>1</td>\n",
       "      <td>16</td>\n",
       "      <td>33</td>\n",
       "      <td>6</td>\n",
       "    </tr>\n",
       "    <tr>\n",
       "      <th>삼청동</th>\n",
       "      <td>1101054</td>\n",
       "      <td>11</td>\n",
       "      <td>383</td>\n",
       "      <td>0</td>\n",
       "      <td>1</td>\n",
       "      <td>13</td>\n",
       "      <td>109</td>\n",
       "      <td>187</td>\n",
       "      <td>0</td>\n",
       "      <td>5</td>\n",
       "      <td>0</td>\n",
       "      <td>0</td>\n",
       "      <td>2</td>\n",
       "      <td>16</td>\n",
       "      <td>0</td>\n",
       "    </tr>\n",
       "    <tr>\n",
       "      <th>부암동</th>\n",
       "      <td>1101055</td>\n",
       "      <td>7</td>\n",
       "      <td>813</td>\n",
       "      <td>3</td>\n",
       "      <td>1</td>\n",
       "      <td>19</td>\n",
       "      <td>59</td>\n",
       "      <td>87</td>\n",
       "      <td>0</td>\n",
       "      <td>5</td>\n",
       "      <td>0</td>\n",
       "      <td>0</td>\n",
       "      <td>1</td>\n",
       "      <td>34</td>\n",
       "      <td>0</td>\n",
       "    </tr>\n",
       "    <tr>\n",
       "      <th>평창동</th>\n",
       "      <td>1101056</td>\n",
       "      <td>15</td>\n",
       "      <td>1364</td>\n",
       "      <td>0</td>\n",
       "      <td>0</td>\n",
       "      <td>17</td>\n",
       "      <td>50</td>\n",
       "      <td>98</td>\n",
       "      <td>0</td>\n",
       "      <td>4</td>\n",
       "      <td>3</td>\n",
       "      <td>1</td>\n",
       "      <td>5</td>\n",
       "      <td>57</td>\n",
       "      <td>0</td>\n",
       "    </tr>\n",
       "    <tr>\n",
       "      <th>무악동</th>\n",
       "      <td>1101057</td>\n",
       "      <td>6</td>\n",
       "      <td>153</td>\n",
       "      <td>0</td>\n",
       "      <td>0</td>\n",
       "      <td>5</td>\n",
       "      <td>8</td>\n",
       "      <td>32</td>\n",
       "      <td>0</td>\n",
       "      <td>3</td>\n",
       "      <td>1</td>\n",
       "      <td>0</td>\n",
       "      <td>0</td>\n",
       "      <td>3</td>\n",
       "      <td>0</td>\n",
       "    </tr>\n",
       "  </tbody>\n",
       "</table>\n",
       "</div>"
      ],
      "text/plain": [
       "      dong_code  drunk_value  light_value  vet_value  park_value  cvs_value  \\\n",
       "dong                                                                          \n",
       "사직동     1101053           42          527          1           3         21   \n",
       "삼청동     1101054           11          383          0           1         13   \n",
       "부암동     1101055            7          813          3           1         19   \n",
       "평창동     1101056           15         1364          0           0         17   \n",
       "무악동     1101057            6          153          0           0          5   \n",
       "\n",
       "      cafe_value  restaurant_value  coin_value  bike_value  nail_value  \\\n",
       "dong                                                                     \n",
       "사직동          120               740           1          14          10   \n",
       "삼청동          109               187           0           5           0   \n",
       "부암동           59                87           0           5           0   \n",
       "평창동           50                98           0           4           3   \n",
       "무악동            8                32           0           3           1   \n",
       "\n",
       "      derma_value  health_value  bus_value  subway_value  \n",
       "dong                                                      \n",
       "사직동             1            16         33             6  \n",
       "삼청동             0             2         16             0  \n",
       "부암동             0             1         34             0  \n",
       "평창동             1             5         57             0  \n",
       "무악동             0             0          3             0  "
      ]
     },
     "execution_count": 59,
     "metadata": {},
     "output_type": "execute_result"
    }
   ],
   "source": [
    "df = pd.read_excel('data/퉁치기_최종.xlsx', index_col = 0)\n",
    "df.head()"
   ]
  },
  {
   "cell_type": "code",
   "execution_count": 60,
   "metadata": {},
   "outputs": [
    {
     "name": "stdout",
     "output_type": "stream",
     "text": [
      "dong_code       Skewness: -0.09   Kurtosis: -01.25\n",
      "drunk_value     Skewness: 04.60   Kurtosis: 031.23\n",
      "light_value     Skewness: 00.84   Kurtosis: 001.63\n",
      "vet_value       Skewness: 01.05   Kurtosis: 001.79\n",
      "park_value      Skewness: 01.86   Kurtosis: 003.34\n",
      "cvs_value       Skewness: 03.86   Kurtosis: 029.26\n",
      "cafe_value      Skewness: 05.33   Kurtosis: 042.53\n",
      "restaurant_value Skewness: 03.81   Kurtosis: 022.76\n",
      "coin_value      Skewness: 03.67   Kurtosis: 020.23\n",
      "bike_value      Skewness: 03.03   Kurtosis: 016.05\n",
      "nail_value      Skewness: 03.68   Kurtosis: 023.21\n",
      "derma_value     Skewness: 05.84   Kurtosis: 044.00\n",
      "health_value    Skewness: 04.10   Kurtosis: 025.84\n",
      "bus_value       Skewness: 01.35   Kurtosis: 002.92\n",
      "subway_value    Skewness: 03.57   Kurtosis: 020.78\n"
     ]
    }
   ],
   "source": [
    "#왜도 첨도 확인\n",
    "for col in df: print('{:15}'.format(col), 'Skewness: {:05.2f}'.format(df[col].skew()) , ' ' , 'Kurtosis: {:06.2f}'.format(df[col].kurt()) )"
   ]
  },
  {
   "cell_type": "code",
   "execution_count": 45,
   "metadata": {},
   "outputs": [
    {
     "data": {
      "text/plain": [
       "<matplotlib.axes._subplots.AxesSubplot at 0x1b37505e3c8>"
      ]
     },
     "execution_count": 45,
     "metadata": {},
     "output_type": "execute_result"
    },
    {
     "data": {
      "image/png": "[encoded data removed]",
      "text/plain": [
       "<Figure size 432x288 with 1 Axes>"
      ]
     },
     "metadata": {
      "needs_background": "light"
     },
     "output_type": "display_data"
    }
   ],
   "source": [
    "sns.distplot(df['restaurant_value'])"
   ]
  },
  {
   "cell_type": "code",
   "execution_count": 5,
   "metadata": {},
   "outputs": [
    {
     "data": {
      "text/plain": [
       "202.01008994082238"
      ]
     },
     "execution_count": 5,
     "metadata": {},
     "output_type": "execute_result"
    }
   ],
   "source": [
    "np.mean(df['drunk_value']) + 3*np.std(df['drunk_value']) # 평균 + 3*표준편차 이상을 이상치로 보고 엑셀가서 고쳐주고 왔음, 이상치 203"
   ]
  },
  {
   "cell_type": "code",
   "execution_count": 5,
   "metadata": {},
   "outputs": [
    {
     "data": {
      "text/plain": [
       "1515.9659745127224"
      ]
     },
     "execution_count": 5,
     "metadata": {},
     "output_type": "execute_result"
    }
   ],
   "source": [
    "np.mean(df['light_value']) + 3*np.std(df['light_value']) # 이상치 1516"
   ]
  },
  {
   "cell_type": "code",
   "execution_count": 6,
   "metadata": {},
   "outputs": [
    {
     "data": {
      "text/plain": [
       "6.939159252104255"
      ]
     },
     "execution_count": 6,
     "metadata": {},
     "output_type": "execute_result"
    }
   ],
   "source": [
    "np.mean(df['vet_value']) + 3*np.std(df['vet_value']) # 이상치 7"
   ]
  },
  {
   "cell_type": "code",
   "execution_count": 7,
   "metadata": {},
   "outputs": [
    {
     "data": {
      "text/plain": [
       "1.969599259354955"
      ]
     },
     "execution_count": 7,
     "metadata": {},
     "output_type": "execute_result"
    }
   ],
   "source": [
    "np.mean(df['park_value']) + 3*np.std(df['park_value']) # 이상치 2"
   ]
  },
  {
   "cell_type": "code",
   "execution_count": 8,
   "metadata": {},
   "outputs": [
    {
     "data": {
      "text/plain": [
       "76.60608970291761"
      ]
     },
     "execution_count": 8,
     "metadata": {},
     "output_type": "execute_result"
    }
   ],
   "source": [
    "np.mean(df['cvs_value']) + 3*np.std(df['cvs_value']) # 이상치 77"
   ]
  },
  {
   "cell_type": "code",
   "execution_count": 9,
   "metadata": {},
   "outputs": [
    {
     "data": {
      "text/plain": [
       "221.90942515673524"
      ]
     },
     "execution_count": 9,
     "metadata": {},
     "output_type": "execute_result"
    }
   ],
   "source": [
    "np.mean(df['cafe_value']) + 3*np.std(df['cafe_value']) # 이상치 222"
   ]
  },
  {
   "cell_type": "code",
   "execution_count": 10,
   "metadata": {},
   "outputs": [
    {
     "data": {
      "text/plain": [
       "901.0482032878012"
      ]
     },
     "execution_count": 10,
     "metadata": {},
     "output_type": "execute_result"
    }
   ],
   "source": [
    "np.mean(df['restaurant_value']) + 3*np.std(df['restaurant_value']) # 이상치 902"
   ]
  },
  {
   "cell_type": "code",
   "execution_count": 11,
   "metadata": {},
   "outputs": [
    {
     "data": {
      "text/plain": [
       "7.086561173309782"
      ]
     },
     "execution_count": 11,
     "metadata": {},
     "output_type": "execute_result"
    }
   ],
   "source": [
    "np.mean(df['coin_value']) + 3*np.std(df['coin_value']) # 이상치 8"
   ]
  },
  {
   "cell_type": "code",
   "execution_count": 12,
   "metadata": {},
   "outputs": [
    {
     "data": {
      "text/plain": [
       "17.495163550596956"
      ]
     },
     "execution_count": 12,
     "metadata": {},
     "output_type": "execute_result"
    }
   ],
   "source": [
    "np.mean(df['bike_value']) + 3*np.std(df['bike_value']) # 이상치 18"
   ]
  },
  {
   "cell_type": "code",
   "execution_count": 13,
   "metadata": {},
   "outputs": [
    {
     "data": {
      "text/plain": [
       "31.33873257837511"
      ]
     },
     "execution_count": 13,
     "metadata": {},
     "output_type": "execute_result"
    }
   ],
   "source": [
    "np.mean(df['nail_value']) + 3*np.std(df['nail_value']) # 이상치 32"
   ]
  },
  {
   "cell_type": "code",
   "execution_count": 14,
   "metadata": {},
   "outputs": [
    {
     "data": {
      "text/plain": [
       "9.204801290043136"
      ]
     },
     "execution_count": 14,
     "metadata": {},
     "output_type": "execute_result"
    }
   ],
   "source": [
    "np.mean(df['derma_value']) + 3*np.std(df['derma_value']) # 이상치 10"
   ]
  },
  {
   "cell_type": "code",
   "execution_count": 15,
   "metadata": {},
   "outputs": [
    {
     "data": {
      "text/plain": [
       "28.456078841556824"
      ]
     },
     "execution_count": 15,
     "metadata": {},
     "output_type": "execute_result"
    }
   ],
   "source": [
    "np.mean(df['health_value']) + 3*np.std(df['health_value']) # 이상치 29"
   ]
  },
  {
   "cell_type": "code",
   "execution_count": 16,
   "metadata": {},
   "outputs": [
    {
     "data": {
      "text/plain": [
       "71.86805268324991"
      ]
     },
     "execution_count": 16,
     "metadata": {},
     "output_type": "execute_result"
    }
   ],
   "source": [
    "np.mean(df['bus_value']) + 3*np.std(df['bus_value']) # 이상치 72"
   ]
  },
  {
   "cell_type": "code",
   "execution_count": 17,
   "metadata": {},
   "outputs": [
    {
     "data": {
      "text/plain": [
       "34.89087912411047"
      ]
     },
     "execution_count": 17,
     "metadata": {},
     "output_type": "execute_result"
    }
   ],
   "source": [
    "np.mean(df['subway_value']) + 3*np.std(df['subway_value']) # 이상치 35"
   ]
  },
  {
   "cell_type": "markdown",
   "metadata": {},
   "source": [
    "### 2. 전체 지표 z-score화"
   ]
  },
  {
   "cell_type": "code",
   "execution_count": 61,
   "metadata": {},
   "outputs": [],
   "source": [
    "# 전처리한 엑셀파일 로드\n",
    "df = pd.read_excel('data/퉁치기_최종_ESD.xlsx', index_col = 0)"
   ]
  },
  {
   "cell_type": "code",
   "execution_count": 62,
   "metadata": {},
   "outputs": [],
   "source": [
    "df1 = df.iloc[0:,1:] #인덱스와 z-score할 칼럼만 불러오기"
   ]
  },
  {
   "cell_type": "code",
   "execution_count": 63,
   "metadata": {},
   "outputs": [
    {
     "data": {
      "text/plain": [
       "StandardScaler()"
      ]
     },
     "execution_count": 63,
     "metadata": {},
     "output_type": "execute_result"
    }
   ],
   "source": [
    "from sklearn.preprocessing import StandardScaler\n",
    "sdscaler = StandardScaler()\n",
    "sdscaler.fit(df1)"
   ]
  },
  {
   "cell_type": "code",
   "execution_count": 64,
   "metadata": {},
   "outputs": [
    {
     "data": {
      "text/plain": [
       "<matplotlib.axes._subplots.AxesSubplot at 0x1b3763d3cc8>"
      ]
     },
     "execution_count": 64,
     "metadata": {},
     "output_type": "execute_result"
    },
    {
     "data": {
      "image/png": "[encoded data removed]",
      "text/plain": [
       "<Figure size 432x288 with 1 Axes>"
      ]
     },
     "metadata": {
      "needs_background": "light"
     },
     "output_type": "display_data"
    }
   ],
   "source": [
    "sns.distplot(df1['restaurant_value'])"
   ]
  },
  {
   "cell_type": "code",
   "execution_count": 65,
   "metadata": {},
   "outputs": [
    {
     "data": {
      "text/html": [
       "<div>\n",
       "<style scoped>\n",
       "    .dataframe tbody tr th:only-of-type {\n",
       "        vertical-align: middle;\n",
       "    }\n",
       "\n",
       "    .dataframe tbody tr th {\n",
       "        vertical-align: top;\n",
       "    }\n",
       "\n",
       "    .dataframe thead th {\n",
       "        text-align: right;\n",
       "    }\n",
       "</style>\n",
       "<table border=\"1\" class=\"dataframe\">\n",
       "  <thead>\n",
       "    <tr style=\"text-align: right;\">\n",
       "      <th></th>\n",
       "      <th>drunk_value</th>\n",
       "      <th>light_value</th>\n",
       "      <th>vet_value</th>\n",
       "      <th>park_value</th>\n",
       "      <th>cvs_value</th>\n",
       "      <th>cafe_value</th>\n",
       "      <th>restaurant_value</th>\n",
       "      <th>coin_value</th>\n",
       "      <th>bike_value</th>\n",
       "      <th>nail_value</th>\n",
       "      <th>derma_value</th>\n",
       "      <th>health_value</th>\n",
       "      <th>bus_value</th>\n",
       "      <th>subway_value</th>\n",
       "    </tr>\n",
       "  </thead>\n",
       "  <tbody>\n",
       "    <tr>\n",
       "      <th>0</th>\n",
       "      <td>0.067408</td>\n",
       "      <td>0.032684</td>\n",
       "      <td>-0.619052</td>\n",
       "      <td>3.171171</td>\n",
       "      <td>-0.038235</td>\n",
       "      <td>1.839779</td>\n",
       "      <td>2.908830</td>\n",
       "      <td>-0.082602</td>\n",
       "      <td>2.638125</td>\n",
       "      <td>0.378813</td>\n",
       "      <td>-0.056587</td>\n",
       "      <td>1.720580</td>\n",
       "      <td>0.456290</td>\n",
       "      <td>0.081691</td>\n",
       "    </tr>\n",
       "    <tr>\n",
       "      <th>1</th>\n",
       "      <td>-0.709587</td>\n",
       "      <td>-0.413307</td>\n",
       "      <td>-1.246969</td>\n",
       "      <td>1.309641</td>\n",
       "      <td>-0.566682</td>\n",
       "      <td>1.582980</td>\n",
       "      <td>-0.195640</td>\n",
       "      <td>-0.687872</td>\n",
       "      <td>0.067868</td>\n",
       "      <td>-1.191876</td>\n",
       "      <td>-0.615882</td>\n",
       "      <td>-0.659116</td>\n",
       "      <td>-0.713166</td>\n",
       "      <td>-0.651800</td>\n",
       "    </tr>\n",
       "    <tr>\n",
       "      <th>2</th>\n",
       "      <td>-0.809845</td>\n",
       "      <td>0.918473</td>\n",
       "      <td>0.636782</td>\n",
       "      <td>1.309641</td>\n",
       "      <td>-0.170346</td>\n",
       "      <td>0.415712</td>\n",
       "      <td>-0.757027</td>\n",
       "      <td>-0.687872</td>\n",
       "      <td>0.067868</td>\n",
       "      <td>-1.191876</td>\n",
       "      <td>-0.615882</td>\n",
       "      <td>-0.829094</td>\n",
       "      <td>0.525082</td>\n",
       "      <td>-0.651800</td>\n",
       "    </tr>\n",
       "    <tr>\n",
       "      <th>3</th>\n",
       "      <td>-0.609330</td>\n",
       "      <td>2.625011</td>\n",
       "      <td>-1.246969</td>\n",
       "      <td>-0.551889</td>\n",
       "      <td>-0.302458</td>\n",
       "      <td>0.205604</td>\n",
       "      <td>-0.695274</td>\n",
       "      <td>-0.687872</td>\n",
       "      <td>-0.217716</td>\n",
       "      <td>-0.720669</td>\n",
       "      <td>-0.056587</td>\n",
       "      <td>-0.149181</td>\n",
       "      <td>2.107288</td>\n",
       "      <td>-0.651800</td>\n",
       "    </tr>\n",
       "    <tr>\n",
       "      <th>4</th>\n",
       "      <td>-0.834909</td>\n",
       "      <td>-1.125655</td>\n",
       "      <td>-1.246969</td>\n",
       "      <td>-0.551889</td>\n",
       "      <td>-1.095129</td>\n",
       "      <td>-0.774901</td>\n",
       "      <td>-1.065790</td>\n",
       "      <td>-0.687872</td>\n",
       "      <td>-0.503300</td>\n",
       "      <td>-1.034807</td>\n",
       "      <td>-0.615882</td>\n",
       "      <td>-0.999072</td>\n",
       "      <td>-1.607456</td>\n",
       "      <td>-0.651800</td>\n",
       "    </tr>\n",
       "    <tr>\n",
       "      <th>...</th>\n",
       "      <td>...</td>\n",
       "      <td>...</td>\n",
       "      <td>...</td>\n",
       "      <td>...</td>\n",
       "      <td>...</td>\n",
       "      <td>...</td>\n",
       "      <td>...</td>\n",
       "      <td>...</td>\n",
       "      <td>...</td>\n",
       "      <td>...</td>\n",
       "      <td>...</td>\n",
       "      <td>...</td>\n",
       "      <td>...</td>\n",
       "      <td>...</td>\n",
       "    </tr>\n",
       "    <tr>\n",
       "      <th>420</th>\n",
       "      <td>-0.985296</td>\n",
       "      <td>-1.463246</td>\n",
       "      <td>-0.619052</td>\n",
       "      <td>1.309641</td>\n",
       "      <td>-1.425408</td>\n",
       "      <td>-0.961664</td>\n",
       "      <td>-1.166840</td>\n",
       "      <td>-0.687872</td>\n",
       "      <td>2.066957</td>\n",
       "      <td>-1.191876</td>\n",
       "      <td>-0.615882</td>\n",
       "      <td>-0.829094</td>\n",
       "      <td>-0.094042</td>\n",
       "      <td>-0.651800</td>\n",
       "    </tr>\n",
       "    <tr>\n",
       "      <th>421</th>\n",
       "      <td>-0.985296</td>\n",
       "      <td>-1.128752</td>\n",
       "      <td>-1.246969</td>\n",
       "      <td>-0.551889</td>\n",
       "      <td>-1.293296</td>\n",
       "      <td>-0.844937</td>\n",
       "      <td>-1.194909</td>\n",
       "      <td>-0.687872</td>\n",
       "      <td>-0.788884</td>\n",
       "      <td>-0.877738</td>\n",
       "      <td>-0.615882</td>\n",
       "      <td>-0.999072</td>\n",
       "      <td>-0.713166</td>\n",
       "      <td>-0.651800</td>\n",
       "    </tr>\n",
       "    <tr>\n",
       "      <th>422</th>\n",
       "      <td>-0.985296</td>\n",
       "      <td>-1.568550</td>\n",
       "      <td>-1.246969</td>\n",
       "      <td>1.309641</td>\n",
       "      <td>-0.896961</td>\n",
       "      <td>-0.634829</td>\n",
       "      <td>-1.043334</td>\n",
       "      <td>-0.687872</td>\n",
       "      <td>1.781373</td>\n",
       "      <td>-1.034807</td>\n",
       "      <td>-0.056587</td>\n",
       "      <td>-0.489138</td>\n",
       "      <td>-0.094042</td>\n",
       "      <td>0.448436</td>\n",
       "    </tr>\n",
       "    <tr>\n",
       "      <th>423</th>\n",
       "      <td>-0.985296</td>\n",
       "      <td>-1.484926</td>\n",
       "      <td>-1.246969</td>\n",
       "      <td>-0.551889</td>\n",
       "      <td>-1.227240</td>\n",
       "      <td>-0.891628</td>\n",
       "      <td>-1.245434</td>\n",
       "      <td>-0.687872</td>\n",
       "      <td>-1.074468</td>\n",
       "      <td>-1.191876</td>\n",
       "      <td>-0.615882</td>\n",
       "      <td>-0.999072</td>\n",
       "      <td>-1.263499</td>\n",
       "      <td>-0.651800</td>\n",
       "    </tr>\n",
       "    <tr>\n",
       "      <th>424</th>\n",
       "      <td>-0.985296</td>\n",
       "      <td>-1.599521</td>\n",
       "      <td>-1.246969</td>\n",
       "      <td>1.309641</td>\n",
       "      <td>-1.227240</td>\n",
       "      <td>-0.891628</td>\n",
       "      <td>-1.206137</td>\n",
       "      <td>-0.687872</td>\n",
       "      <td>-0.503300</td>\n",
       "      <td>-1.034807</td>\n",
       "      <td>-0.615882</td>\n",
       "      <td>-0.829094</td>\n",
       "      <td>-1.538665</td>\n",
       "      <td>2.404411</td>\n",
       "    </tr>\n",
       "  </tbody>\n",
       "</table>\n",
       "<p>425 rows × 14 columns</p>\n",
       "</div>"
      ],
      "text/plain": [
       "     drunk_value  light_value  vet_value  park_value  cvs_value  cafe_value  \\\n",
       "0       0.067408     0.032684  -0.619052    3.171171  -0.038235    1.839779   \n",
       "1      -0.709587    -0.413307  -1.246969    1.309641  -0.566682    1.582980   \n",
       "2      -0.809845     0.918473   0.636782    1.309641  -0.170346    0.415712   \n",
       "3      -0.609330     2.625011  -1.246969   -0.551889  -0.302458    0.205604   \n",
       "4      -0.834909    -1.125655  -1.246969   -0.551889  -1.095129   -0.774901   \n",
       "..           ...          ...        ...         ...        ...         ...   \n",
       "420    -0.985296    -1.463246  -0.619052    1.309641  -1.425408   -0.961664   \n",
       "421    -0.985296    -1.128752  -1.246969   -0.551889  -1.293296   -0.844937   \n",
       "422    -0.985296    -1.568550  -1.246969    1.309641  -0.896961   -0.634829   \n",
       "423    -0.985296    -1.484926  -1.246969   -0.551889  -1.227240   -0.891628   \n",
       "424    -0.985296    -1.599521  -1.246969    1.309641  -1.227240   -0.891628   \n",
       "\n",
       "     restaurant_value  coin_value  bike_value  nail_value  derma_value  \\\n",
       "0            2.908830   -0.082602    2.638125    0.378813    -0.056587   \n",
       "1           -0.195640   -0.687872    0.067868   -1.191876    -0.615882   \n",
       "2           -0.757027   -0.687872    0.067868   -1.191876    -0.615882   \n",
       "3           -0.695274   -0.687872   -0.217716   -0.720669    -0.056587   \n",
       "4           -1.065790   -0.687872   -0.503300   -1.034807    -0.615882   \n",
       "..                ...         ...         ...         ...          ...   \n",
       "420         -1.166840   -0.687872    2.066957   -1.191876    -0.615882   \n",
       "421         -1.194909   -0.687872   -0.788884   -0.877738    -0.615882   \n",
       "422         -1.043334   -0.687872    1.781373   -1.034807    -0.056587   \n",
       "423         -1.245434   -0.687872   -1.074468   -1.191876    -0.615882   \n",
       "424         -1.206137   -0.687872   -0.503300   -1.034807    -0.615882   \n",
       "\n",
       "     health_value  bus_value  subway_value  \n",
       "0        1.720580   0.456290      0.081691  \n",
       "1       -0.659116  -0.713166     -0.651800  \n",
       "2       -0.829094   0.525082     -0.651800  \n",
       "3       -0.149181   2.107288     -0.651800  \n",
       "4       -0.999072  -1.607456     -0.651800  \n",
       "..            ...        ...           ...  \n",
       "420     -0.829094  -0.094042     -0.651800  \n",
       "421     -0.999072  -0.713166     -0.651800  \n",
       "422     -0.489138  -0.094042      0.448436  \n",
       "423     -0.999072  -1.263499     -0.651800  \n",
       "424     -0.829094  -1.538665      2.404411  \n",
       "\n",
       "[425 rows x 14 columns]"
      ]
     },
     "execution_count": 65,
     "metadata": {},
     "output_type": "execute_result"
    }
   ],
   "source": [
    "#햔번에 정규화\n",
    "normal = sdscaler.transform(df1)\n",
    "df1 = pd.DataFrame(normal, columns = df1.columns)\n",
    "df1"
   ]
  },
  {
   "cell_type": "code",
   "execution_count": 66,
   "metadata": {},
   "outputs": [
    {
     "data": {
      "text/html": [
       "<div>\n",
       "<style scoped>\n",
       "    .dataframe tbody tr th:only-of-type {\n",
       "        vertical-align: middle;\n",
       "    }\n",
       "\n",
       "    .dataframe tbody tr th {\n",
       "        vertical-align: top;\n",
       "    }\n",
       "\n",
       "    .dataframe thead th {\n",
       "        text-align: right;\n",
       "    }\n",
       "</style>\n",
       "<table border=\"1\" class=\"dataframe\">\n",
       "  <thead>\n",
       "    <tr style=\"text-align: right;\">\n",
       "      <th></th>\n",
       "      <th>drunk_value</th>\n",
       "      <th>light_value</th>\n",
       "      <th>vet_value</th>\n",
       "      <th>park_value</th>\n",
       "      <th>cvs_value</th>\n",
       "      <th>cafe_value</th>\n",
       "      <th>restaurant_value</th>\n",
       "      <th>coin_value</th>\n",
       "      <th>bike_value</th>\n",
       "      <th>nail_value</th>\n",
       "      <th>derma_value</th>\n",
       "      <th>health_value</th>\n",
       "      <th>bus_value</th>\n",
       "      <th>subway_value</th>\n",
       "    </tr>\n",
       "  </thead>\n",
       "  <tbody>\n",
       "    <tr>\n",
       "      <th>count</th>\n",
       "      <td>4.250000e+02</td>\n",
       "      <td>4.250000e+02</td>\n",
       "      <td>4.250000e+02</td>\n",
       "      <td>4.250000e+02</td>\n",
       "      <td>4.250000e+02</td>\n",
       "      <td>4.250000e+02</td>\n",
       "      <td>4.250000e+02</td>\n",
       "      <td>4.250000e+02</td>\n",
       "      <td>4.250000e+02</td>\n",
       "      <td>4.250000e+02</td>\n",
       "      <td>4.250000e+02</td>\n",
       "      <td>4.250000e+02</td>\n",
       "      <td>4.250000e+02</td>\n",
       "      <td>4.250000e+02</td>\n",
       "    </tr>\n",
       "    <tr>\n",
       "      <th>mean</th>\n",
       "      <td>-5.224579e-19</td>\n",
       "      <td>-1.750234e-16</td>\n",
       "      <td>3.239239e-17</td>\n",
       "      <td>9.351996e-17</td>\n",
       "      <td>5.224579e-17</td>\n",
       "      <td>3.657205e-18</td>\n",
       "      <td>2.507798e-17</td>\n",
       "      <td>-7.993606e-17</td>\n",
       "      <td>-1.290471e-16</td>\n",
       "      <td>-6.076185e-16</td>\n",
       "      <td>6.206800e-16</td>\n",
       "      <td>-3.369853e-17</td>\n",
       "      <td>-1.044916e-18</td>\n",
       "      <td>3.301934e-16</td>\n",
       "    </tr>\n",
       "    <tr>\n",
       "      <th>std</th>\n",
       "      <td>1.001179e+00</td>\n",
       "      <td>1.001179e+00</td>\n",
       "      <td>1.001179e+00</td>\n",
       "      <td>1.001179e+00</td>\n",
       "      <td>1.001179e+00</td>\n",
       "      <td>1.001179e+00</td>\n",
       "      <td>1.001179e+00</td>\n",
       "      <td>1.001179e+00</td>\n",
       "      <td>1.001179e+00</td>\n",
       "      <td>1.001179e+00</td>\n",
       "      <td>1.001179e+00</td>\n",
       "      <td>1.001179e+00</td>\n",
       "      <td>1.001179e+00</td>\n",
       "      <td>1.001179e+00</td>\n",
       "    </tr>\n",
       "    <tr>\n",
       "      <th>min</th>\n",
       "      <td>-9.852957e-01</td>\n",
       "      <td>-1.599521e+00</td>\n",
       "      <td>-1.246969e+00</td>\n",
       "      <td>-5.518889e-01</td>\n",
       "      <td>-1.425408e+00</td>\n",
       "      <td>-9.616640e-01</td>\n",
       "      <td>-1.245434e+00</td>\n",
       "      <td>-6.878723e-01</td>\n",
       "      <td>-1.360052e+00</td>\n",
       "      <td>-1.191876e+00</td>\n",
       "      <td>-6.158822e-01</td>\n",
       "      <td>-9.990724e-01</td>\n",
       "      <td>-1.745040e+00</td>\n",
       "      <td>-6.517998e-01</td>\n",
       "    </tr>\n",
       "    <tr>\n",
       "      <th>25%</th>\n",
       "      <td>-6.343943e-01</td>\n",
       "      <td>-7.447040e-01</td>\n",
       "      <td>-6.190522e-01</td>\n",
       "      <td>-5.518889e-01</td>\n",
       "      <td>-7.648492e-01</td>\n",
       "      <td>-6.114836e-01</td>\n",
       "      <td>-6.896606e-01</td>\n",
       "      <td>-6.878723e-01</td>\n",
       "      <td>-7.888841e-01</td>\n",
       "      <td>-7.206694e-01</td>\n",
       "      <td>-6.158822e-01</td>\n",
       "      <td>-6.591158e-01</td>\n",
       "      <td>-7.131662e-01</td>\n",
       "      <td>-6.517998e-01</td>\n",
       "    </tr>\n",
       "    <tr>\n",
       "      <th>50%</th>\n",
       "      <td>-3.336217e-01</td>\n",
       "      <td>-2.616193e-02</td>\n",
       "      <td>8.864709e-03</td>\n",
       "      <td>-5.518889e-01</td>\n",
       "      <td>-2.364023e-01</td>\n",
       "      <td>-3.313393e-01</td>\n",
       "      <td>-2.910759e-01</td>\n",
       "      <td>-8.260164e-02</td>\n",
       "      <td>-2.177159e-01</td>\n",
       "      <td>-2.494625e-01</td>\n",
       "      <td>-6.158822e-01</td>\n",
       "      <td>-3.191593e-01</td>\n",
       "      <td>-1.628337e-01</td>\n",
       "      <td>-5.295514e-01</td>\n",
       "    </tr>\n",
       "    <tr>\n",
       "      <th>75%</th>\n",
       "      <td>2.177948e-01</td>\n",
       "      <td>5.653964e-01</td>\n",
       "      <td>6.367816e-01</td>\n",
       "      <td>1.309641e+00</td>\n",
       "      <td>3.581005e-01</td>\n",
       "      <td>1.822586e-01</td>\n",
       "      <td>3.320637e-01</td>\n",
       "      <td>5.226690e-01</td>\n",
       "      <td>3.534523e-01</td>\n",
       "      <td>3.788134e-01</td>\n",
       "      <td>-5.658747e-02</td>\n",
       "      <td>1.907756e-01</td>\n",
       "      <td>5.250819e-01</td>\n",
       "      <td>4.484360e-01</td>\n",
       "    </tr>\n",
       "    <tr>\n",
       "      <th>max</th>\n",
       "      <td>4.102774e+00</td>\n",
       "      <td>3.095780e+00</td>\n",
       "      <td>3.148449e+00</td>\n",
       "      <td>3.171171e+00</td>\n",
       "      <td>3.660894e+00</td>\n",
       "      <td>4.221006e+00</td>\n",
       "      <td>3.818277e+00</td>\n",
       "      <td>4.154293e+00</td>\n",
       "      <td>3.780462e+00</td>\n",
       "      <td>3.834331e+00</td>\n",
       "      <td>4.977066e+00</td>\n",
       "      <td>3.930298e+00</td>\n",
       "      <td>3.139161e+00</td>\n",
       "      <td>3.626895e+00</td>\n",
       "    </tr>\n",
       "  </tbody>\n",
       "</table>\n",
       "</div>"
      ],
      "text/plain": [
       "        drunk_value   light_value     vet_value    park_value     cvs_value  \\\n",
       "count  4.250000e+02  4.250000e+02  4.250000e+02  4.250000e+02  4.250000e+02   \n",
       "mean  -5.224579e-19 -1.750234e-16  3.239239e-17  9.351996e-17  5.224579e-17   \n",
       "std    1.001179e+00  1.001179e+00  1.001179e+00  1.001179e+00  1.001179e+00   \n",
       "min   -9.852957e-01 -1.599521e+00 -1.246969e+00 -5.518889e-01 -1.425408e+00   \n",
       "25%   -6.343943e-01 -7.447040e-01 -6.190522e-01 -5.518889e-01 -7.648492e-01   \n",
       "50%   -3.336217e-01 -2.616193e-02  8.864709e-03 -5.518889e-01 -2.364023e-01   \n",
       "75%    2.177948e-01  5.653964e-01  6.367816e-01  1.309641e+00  3.581005e-01   \n",
       "max    4.102774e+00  3.095780e+00  3.148449e+00  3.171171e+00  3.660894e+00   \n",
       "\n",
       "         cafe_value  restaurant_value    coin_value    bike_value  \\\n",
       "count  4.250000e+02      4.250000e+02  4.250000e+02  4.250000e+02   \n",
       "mean   3.657205e-18      2.507798e-17 -7.993606e-17 -1.290471e-16   \n",
       "std    1.001179e+00      1.001179e+00  1.001179e+00  1.001179e+00   \n",
       "min   -9.616640e-01     -1.245434e+00 -6.878723e-01 -1.360052e+00   \n",
       "25%   -6.114836e-01     -6.896606e-01 -6.878723e-01 -7.888841e-01   \n",
       "50%   -3.313393e-01     -2.910759e-01 -8.260164e-02 -2.177159e-01   \n",
       "75%    1.822586e-01      3.320637e-01  5.226690e-01  3.534523e-01   \n",
       "max    4.221006e+00      3.818277e+00  4.154293e+00  3.780462e+00   \n",
       "\n",
       "         nail_value   derma_value  health_value     bus_value  subway_value  \n",
       "count  4.250000e+02  4.250000e+02  4.250000e+02  4.250000e+02  4.250000e+02  \n",
       "mean  -6.076185e-16  6.206800e-16 -3.369853e-17 -1.044916e-18  3.301934e-16  \n",
       "std    1.001179e+00  1.001179e+00  1.001179e+00  1.001179e+00  1.001179e+00  \n",
       "min   -1.191876e+00 -6.158822e-01 -9.990724e-01 -1.745040e+00 -6.517998e-01  \n",
       "25%   -7.206694e-01 -6.158822e-01 -6.591158e-01 -7.131662e-01 -6.517998e-01  \n",
       "50%   -2.494625e-01 -6.158822e-01 -3.191593e-01 -1.628337e-01 -5.295514e-01  \n",
       "75%    3.788134e-01 -5.658747e-02  1.907756e-01  5.250819e-01  4.484360e-01  \n",
       "max    3.834331e+00  4.977066e+00  3.930298e+00  3.139161e+00  3.626895e+00  "
      ]
     },
     "execution_count": 66,
     "metadata": {},
     "output_type": "execute_result"
    }
   ],
   "source": [
    "df1.describe()"
   ]
  },
  {
   "cell_type": "code",
   "execution_count": 67,
   "metadata": {},
   "outputs": [
    {
     "data": {
      "text/plain": [
       "<matplotlib.axes._subplots.AxesSubplot at 0x1b374ee9ac8>"
      ]
     },
     "execution_count": 67,
     "metadata": {},
     "output_type": "execute_result"
    },
    {
     "data": {
      "image/png": "[encoded data removed]",
      "text/plain": [
       "<Figure size 432x288 with 1 Axes>"
      ]
     },
     "metadata": {
      "needs_background": "light"
     },
     "output_type": "display_data"
    }
   ],
   "source": [
    "sns.distplot(df1['restaurant_value'])"
   ]
  },
  {
   "cell_type": "markdown",
   "metadata": {},
   "source": [
    "### 3. 각 칼럼별 log화를 for문으로 진행"
   ]
  },
  {
   "cell_type": "code",
   "execution_count": 68,
   "metadata": {},
   "outputs": [],
   "source": [
    "# 기존 칼럼 리스트(values) 와 새로 생겨야 할 칼럼 리스트(logs) 를 작성\n",
    "\n",
    "values = ['drunk_value', 'light_value', 'vet_value', 'park_value', 'cvs_value',\n",
    "       'cafe_value', 'restaurant_value', 'coin_value', 'bike_value',\n",
    "       'nail_value', 'derma_value', 'health_value', 'bus_value',\n",
    "       'subway_value']\n",
    "logs = ['drunk_log', 'light_log', 'vet_log', 'park_log', 'cvs_log',\n",
    "       'cafe_log', 'restaurant_log', 'coin_log', 'bike_log',\n",
    "       'nail_log', 'derma_log', 'health_log', 'bus_log',\n",
    "       'subway_log']"
   ]
  },
  {
   "cell_type": "code",
   "execution_count": 69,
   "metadata": {},
   "outputs": [],
   "source": [
    "# log화하는 함수 작성 -> 파라미터값에 기존 칼럼 / 로그화된 칼럼 올수 있도록 함\n",
    "def value_to_log(value,log):\n",
    "        df1[log] = df1[value] - min(df1[value]) + 10\n",
    "        df1[log] = np.log10(df1[log])"
   ]
  },
  {
   "cell_type": "code",
   "execution_count": 70,
   "metadata": {},
   "outputs": [],
   "source": [
    "# 칼럼의 개수만큼 for문 진행\n",
    "for i in range(0,14):\n",
    "    value_to_log(values[i],logs[i])"
   ]
  },
  {
   "cell_type": "code",
   "execution_count": 71,
   "metadata": {},
   "outputs": [
    {
     "data": {
      "text/html": [
       "<div>\n",
       "<style scoped>\n",
       "    .dataframe tbody tr th:only-of-type {\n",
       "        vertical-align: middle;\n",
       "    }\n",
       "\n",
       "    .dataframe tbody tr th {\n",
       "        vertical-align: top;\n",
       "    }\n",
       "\n",
       "    .dataframe thead th {\n",
       "        text-align: right;\n",
       "    }\n",
       "</style>\n",
       "<table border=\"1\" class=\"dataframe\">\n",
       "  <thead>\n",
       "    <tr style=\"text-align: right;\">\n",
       "      <th></th>\n",
       "      <th>drunk_value</th>\n",
       "      <th>light_value</th>\n",
       "      <th>vet_value</th>\n",
       "      <th>park_value</th>\n",
       "      <th>cvs_value</th>\n",
       "      <th>cafe_value</th>\n",
       "      <th>restaurant_value</th>\n",
       "      <th>coin_value</th>\n",
       "      <th>bike_value</th>\n",
       "      <th>nail_value</th>\n",
       "      <th>...</th>\n",
       "      <th>cvs_log</th>\n",
       "      <th>cafe_log</th>\n",
       "      <th>restaurant_log</th>\n",
       "      <th>coin_log</th>\n",
       "      <th>bike_log</th>\n",
       "      <th>nail_log</th>\n",
       "      <th>derma_log</th>\n",
       "      <th>health_log</th>\n",
       "      <th>bus_log</th>\n",
       "      <th>subway_log</th>\n",
       "    </tr>\n",
       "  </thead>\n",
       "  <tbody>\n",
       "    <tr>\n",
       "      <th>0</th>\n",
       "      <td>0.067408</td>\n",
       "      <td>0.032684</td>\n",
       "      <td>-0.619052</td>\n",
       "      <td>3.171171</td>\n",
       "      <td>-0.038235</td>\n",
       "      <td>1.839779</td>\n",
       "      <td>2.908830</td>\n",
       "      <td>-0.082602</td>\n",
       "      <td>2.638125</td>\n",
       "      <td>0.378813</td>\n",
       "      <td>...</td>\n",
       "      <td>1.056416</td>\n",
       "      <td>1.107259</td>\n",
       "      <td>1.150887</td>\n",
       "      <td>1.025522</td>\n",
       "      <td>1.146071</td>\n",
       "      <td>1.063359</td>\n",
       "      <td>1.023635</td>\n",
       "      <td>1.104475</td>\n",
       "      <td>1.086407</td>\n",
       "      <td>1.030741</td>\n",
       "    </tr>\n",
       "    <tr>\n",
       "      <th>1</th>\n",
       "      <td>-0.709587</td>\n",
       "      <td>-0.413307</td>\n",
       "      <td>-1.246969</td>\n",
       "      <td>1.309641</td>\n",
       "      <td>-0.566682</td>\n",
       "      <td>1.582980</td>\n",
       "      <td>-0.195640</td>\n",
       "      <td>-0.687872</td>\n",
       "      <td>0.067868</td>\n",
       "      <td>-1.191876</td>\n",
       "      <td>...</td>\n",
       "      <td>1.035779</td>\n",
       "      <td>1.098458</td>\n",
       "      <td>1.043354</td>\n",
       "      <td>1.000000</td>\n",
       "      <td>1.057967</td>\n",
       "      <td>1.000000</td>\n",
       "      <td>1.000000</td>\n",
       "      <td>1.014519</td>\n",
       "      <td>1.042649</td>\n",
       "      <td>1.000000</td>\n",
       "    </tr>\n",
       "    <tr>\n",
       "      <th>2</th>\n",
       "      <td>-0.809845</td>\n",
       "      <td>0.918473</td>\n",
       "      <td>0.636782</td>\n",
       "      <td>1.309641</td>\n",
       "      <td>-0.170346</td>\n",
       "      <td>0.415712</td>\n",
       "      <td>-0.757027</td>\n",
       "      <td>-0.687872</td>\n",
       "      <td>0.067868</td>\n",
       "      <td>-1.191876</td>\n",
       "      <td>...</td>\n",
       "      <td>1.051348</td>\n",
       "      <td>1.056042</td>\n",
       "      <td>1.020710</td>\n",
       "      <td>1.000000</td>\n",
       "      <td>1.057967</td>\n",
       "      <td>1.000000</td>\n",
       "      <td>1.000000</td>\n",
       "      <td>1.007320</td>\n",
       "      <td>1.088849</td>\n",
       "      <td>1.000000</td>\n",
       "    </tr>\n",
       "    <tr>\n",
       "      <th>3</th>\n",
       "      <td>-0.609330</td>\n",
       "      <td>2.625011</td>\n",
       "      <td>-1.246969</td>\n",
       "      <td>-0.551889</td>\n",
       "      <td>-0.302458</td>\n",
       "      <td>0.205604</td>\n",
       "      <td>-0.695274</td>\n",
       "      <td>-0.687872</td>\n",
       "      <td>-0.217716</td>\n",
       "      <td>-0.720669</td>\n",
       "      <td>...</td>\n",
       "      <td>1.046220</td>\n",
       "      <td>1.047947</td>\n",
       "      <td>1.023259</td>\n",
       "      <td>1.000000</td>\n",
       "      <td>1.046976</td>\n",
       "      <td>1.019997</td>\n",
       "      <td>1.023635</td>\n",
       "      <td>1.035425</td>\n",
       "      <td>1.141523</td>\n",
       "      <td>1.000000</td>\n",
       "    </tr>\n",
       "    <tr>\n",
       "      <th>4</th>\n",
       "      <td>-0.834909</td>\n",
       "      <td>-1.125655</td>\n",
       "      <td>-1.246969</td>\n",
       "      <td>-0.551889</td>\n",
       "      <td>-1.095129</td>\n",
       "      <td>-0.774901</td>\n",
       "      <td>-1.065790</td>\n",
       "      <td>-0.687872</td>\n",
       "      <td>-0.503300</td>\n",
       "      <td>-1.034807</td>\n",
       "      <td>...</td>\n",
       "      <td>1.014112</td>\n",
       "      <td>1.008036</td>\n",
       "      <td>1.007733</td>\n",
       "      <td>1.000000</td>\n",
       "      <td>1.035700</td>\n",
       "      <td>1.006768</td>\n",
       "      <td>1.000000</td>\n",
       "      <td>1.000000</td>\n",
       "      <td>1.005934</td>\n",
       "      <td>1.000000</td>\n",
       "    </tr>\n",
       "    <tr>\n",
       "      <th>...</th>\n",
       "      <td>...</td>\n",
       "      <td>...</td>\n",
       "      <td>...</td>\n",
       "      <td>...</td>\n",
       "      <td>...</td>\n",
       "      <td>...</td>\n",
       "      <td>...</td>\n",
       "      <td>...</td>\n",
       "      <td>...</td>\n",
       "      <td>...</td>\n",
       "      <td>...</td>\n",
       "      <td>...</td>\n",
       "      <td>...</td>\n",
       "      <td>...</td>\n",
       "      <td>...</td>\n",
       "      <td>...</td>\n",
       "      <td>...</td>\n",
       "      <td>...</td>\n",
       "      <td>...</td>\n",
       "      <td>...</td>\n",
       "      <td>...</td>\n",
       "    </tr>\n",
       "    <tr>\n",
       "      <th>420</th>\n",
       "      <td>-0.985296</td>\n",
       "      <td>-1.463246</td>\n",
       "      <td>-0.619052</td>\n",
       "      <td>1.309641</td>\n",
       "      <td>-1.425408</td>\n",
       "      <td>-0.961664</td>\n",
       "      <td>-1.166840</td>\n",
       "      <td>-0.687872</td>\n",
       "      <td>2.066957</td>\n",
       "      <td>-1.191876</td>\n",
       "      <td>...</td>\n",
       "      <td>1.000000</td>\n",
       "      <td>1.000000</td>\n",
       "      <td>1.003400</td>\n",
       "      <td>1.000000</td>\n",
       "      <td>1.127979</td>\n",
       "      <td>1.000000</td>\n",
       "      <td>1.000000</td>\n",
       "      <td>1.007320</td>\n",
       "      <td>1.066363</td>\n",
       "      <td>1.000000</td>\n",
       "    </tr>\n",
       "    <tr>\n",
       "      <th>421</th>\n",
       "      <td>-0.985296</td>\n",
       "      <td>-1.128752</td>\n",
       "      <td>-1.246969</td>\n",
       "      <td>-0.551889</td>\n",
       "      <td>-1.293296</td>\n",
       "      <td>-0.844937</td>\n",
       "      <td>-1.194909</td>\n",
       "      <td>-0.687872</td>\n",
       "      <td>-0.788884</td>\n",
       "      <td>-0.877738</td>\n",
       "      <td>...</td>\n",
       "      <td>1.005700</td>\n",
       "      <td>1.005040</td>\n",
       "      <td>1.002189</td>\n",
       "      <td>1.000000</td>\n",
       "      <td>1.024123</td>\n",
       "      <td>1.013433</td>\n",
       "      <td>1.000000</td>\n",
       "      <td>1.000000</td>\n",
       "      <td>1.042649</td>\n",
       "      <td>1.000000</td>\n",
       "    </tr>\n",
       "    <tr>\n",
       "      <th>422</th>\n",
       "      <td>-0.985296</td>\n",
       "      <td>-1.568550</td>\n",
       "      <td>-1.246969</td>\n",
       "      <td>1.309641</td>\n",
       "      <td>-0.896961</td>\n",
       "      <td>-0.634829</td>\n",
       "      <td>-1.043334</td>\n",
       "      <td>-0.687872</td>\n",
       "      <td>1.781373</td>\n",
       "      <td>-1.034807</td>\n",
       "      <td>...</td>\n",
       "      <td>1.022364</td>\n",
       "      <td>1.013967</td>\n",
       "      <td>1.008690</td>\n",
       "      <td>1.000000</td>\n",
       "      <td>1.118642</td>\n",
       "      <td>1.006768</td>\n",
       "      <td>1.023635</td>\n",
       "      <td>1.021600</td>\n",
       "      <td>1.066363</td>\n",
       "      <td>1.045332</td>\n",
       "    </tr>\n",
       "    <tr>\n",
       "      <th>423</th>\n",
       "      <td>-0.985296</td>\n",
       "      <td>-1.484926</td>\n",
       "      <td>-1.246969</td>\n",
       "      <td>-0.551889</td>\n",
       "      <td>-1.227240</td>\n",
       "      <td>-0.891628</td>\n",
       "      <td>-1.245434</td>\n",
       "      <td>-0.687872</td>\n",
       "      <td>-1.074468</td>\n",
       "      <td>-1.191876</td>\n",
       "      <td>...</td>\n",
       "      <td>1.008522</td>\n",
       "      <td>1.003031</td>\n",
       "      <td>1.000000</td>\n",
       "      <td>1.000000</td>\n",
       "      <td>1.012229</td>\n",
       "      <td>1.000000</td>\n",
       "      <td>1.000000</td>\n",
       "      <td>1.000000</td>\n",
       "      <td>1.020425</td>\n",
       "      <td>1.000000</td>\n",
       "    </tr>\n",
       "    <tr>\n",
       "      <th>424</th>\n",
       "      <td>-0.985296</td>\n",
       "      <td>-1.599521</td>\n",
       "      <td>-1.246969</td>\n",
       "      <td>1.309641</td>\n",
       "      <td>-1.227240</td>\n",
       "      <td>-0.891628</td>\n",
       "      <td>-1.206137</td>\n",
       "      <td>-0.687872</td>\n",
       "      <td>-0.503300</td>\n",
       "      <td>-1.034807</td>\n",
       "      <td>...</td>\n",
       "      <td>1.008522</td>\n",
       "      <td>1.003031</td>\n",
       "      <td>1.001703</td>\n",
       "      <td>1.000000</td>\n",
       "      <td>1.035700</td>\n",
       "      <td>1.006768</td>\n",
       "      <td>1.000000</td>\n",
       "      <td>1.007320</td>\n",
       "      <td>1.008872</td>\n",
       "      <td>1.115817</td>\n",
       "    </tr>\n",
       "  </tbody>\n",
       "</table>\n",
       "<p>425 rows × 28 columns</p>\n",
       "</div>"
      ],
      "text/plain": [
       "     drunk_value  light_value  vet_value  park_value  cvs_value  cafe_value  \\\n",
       "0       0.067408     0.032684  -0.619052    3.171171  -0.038235    1.839779   \n",
       "1      -0.709587    -0.413307  -1.246969    1.309641  -0.566682    1.582980   \n",
       "2      -0.809845     0.918473   0.636782    1.309641  -0.170346    0.415712   \n",
       "3      -0.609330     2.625011  -1.246969   -0.551889  -0.302458    0.205604   \n",
       "4      -0.834909    -1.125655  -1.246969   -0.551889  -1.095129   -0.774901   \n",
       "..           ...          ...        ...         ...        ...         ...   \n",
       "420    -0.985296    -1.463246  -0.619052    1.309641  -1.425408   -0.961664   \n",
       "421    -0.985296    -1.128752  -1.246969   -0.551889  -1.293296   -0.844937   \n",
       "422    -0.985296    -1.568550  -1.246969    1.309641  -0.896961   -0.634829   \n",
       "423    -0.985296    -1.484926  -1.246969   -0.551889  -1.227240   -0.891628   \n",
       "424    -0.985296    -1.599521  -1.246969    1.309641  -1.227240   -0.891628   \n",
       "\n",
       "     restaurant_value  coin_value  bike_value  nail_value  ...   cvs_log  \\\n",
       "0            2.908830   -0.082602    2.638125    0.378813  ...  1.056416   \n",
       "1           -0.195640   -0.687872    0.067868   -1.191876  ...  1.035779   \n",
       "2           -0.757027   -0.687872    0.067868   -1.191876  ...  1.051348   \n",
       "3           -0.695274   -0.687872   -0.217716   -0.720669  ...  1.046220   \n",
       "4           -1.065790   -0.687872   -0.503300   -1.034807  ...  1.014112   \n",
       "..                ...         ...         ...         ...  ...       ...   \n",
       "420         -1.166840   -0.687872    2.066957   -1.191876  ...  1.000000   \n",
       "421         -1.194909   -0.687872   -0.788884   -0.877738  ...  1.005700   \n",
       "422         -1.043334   -0.687872    1.781373   -1.034807  ...  1.022364   \n",
       "423         -1.245434   -0.687872   -1.074468   -1.191876  ...  1.008522   \n",
       "424         -1.206137   -0.687872   -0.503300   -1.034807  ...  1.008522   \n",
       "\n",
       "     cafe_log  restaurant_log  coin_log  bike_log  nail_log  derma_log  \\\n",
       "0    1.107259        1.150887  1.025522  1.146071  1.063359   1.023635   \n",
       "1    1.098458        1.043354  1.000000  1.057967  1.000000   1.000000   \n",
       "2    1.056042        1.020710  1.000000  1.057967  1.000000   1.000000   \n",
       "3    1.047947        1.023259  1.000000  1.046976  1.019997   1.023635   \n",
       "4    1.008036        1.007733  1.000000  1.035700  1.006768   1.000000   \n",
       "..        ...             ...       ...       ...       ...        ...   \n",
       "420  1.000000        1.003400  1.000000  1.127979  1.000000   1.000000   \n",
       "421  1.005040        1.002189  1.000000  1.024123  1.013433   1.000000   \n",
       "422  1.013967        1.008690  1.000000  1.118642  1.006768   1.023635   \n",
       "423  1.003031        1.000000  1.000000  1.012229  1.000000   1.000000   \n",
       "424  1.003031        1.001703  1.000000  1.035700  1.006768   1.000000   \n",
       "\n",
       "     health_log   bus_log  subway_log  \n",
       "0      1.104475  1.086407    1.030741  \n",
       "1      1.014519  1.042649    1.000000  \n",
       "2      1.007320  1.088849    1.000000  \n",
       "3      1.035425  1.141523    1.000000  \n",
       "4      1.000000  1.005934    1.000000  \n",
       "..          ...       ...         ...  \n",
       "420    1.007320  1.066363    1.000000  \n",
       "421    1.000000  1.042649    1.000000  \n",
       "422    1.021600  1.066363    1.045332  \n",
       "423    1.000000  1.020425    1.000000  \n",
       "424    1.007320  1.008872    1.115817  \n",
       "\n",
       "[425 rows x 28 columns]"
      ]
     },
     "execution_count": 71,
     "metadata": {},
     "output_type": "execute_result"
    }
   ],
   "source": [
    "# df1 확인\n",
    "df1"
   ]
  },
  {
   "cell_type": "markdown",
   "metadata": {},
   "source": [
    "### 분포 확인"
   ]
  },
  {
   "cell_type": "code",
   "execution_count": 73,
   "metadata": {},
   "outputs": [
    {
     "name": "stdout",
     "output_type": "stream",
     "text": [
      "drunk_value     Skewness: 02.09   Kurtosis: 004.91\n",
      "light_value     Skewness: 00.61   Kurtosis: 000.53\n",
      "vet_value       Skewness: 00.78   Kurtosis: 000.31\n",
      "park_value      Skewness: 01.64   Kurtosis: 001.79\n",
      "cvs_value       Skewness: 01.65   Kurtosis: 003.27\n",
      "cafe_value      Skewness: 02.35   Kurtosis: 005.90\n",
      "restaurant_value Skewness: 01.82   Kurtosis: 003.80\n",
      "coin_value      Skewness: 02.14   Kurtosis: 005.19\n",
      "bike_value      Skewness: 01.36   Kurtosis: 002.31\n",
      "nail_value      Skewness: 01.61   Kurtosis: 003.00\n",
      "derma_value     Skewness: 02.65   Kurtosis: 008.38\n",
      "health_value    Skewness: 02.05   Kurtosis: 004.70\n",
      "bus_value       Skewness: 01.04   Kurtosis: 000.94\n",
      "subway_value    Skewness: 01.95   Kurtosis: 003.51\n",
      "drunk_log       Skewness: 01.80   Kurtosis: 003.47\n",
      "light_log       Skewness: 00.35   Kurtosis: 000.07\n",
      "vet_log         Skewness: 00.57   Kurtosis: -00.14\n",
      "park_log        Skewness: 01.52   Kurtosis: 001.14\n",
      "cvs_log         Skewness: 01.35   Kurtosis: 002.14\n",
      "cafe_log        Skewness: 02.07   Kurtosis: 004.47\n",
      "restaurant_log  Skewness: 01.53   Kurtosis: 002.59\n",
      "coin_log        Skewness: 01.83   Kurtosis: 003.61\n",
      "bike_log        Skewness: 01.08   Kurtosis: 001.31\n",
      "nail_log        Skewness: 01.33   Kurtosis: 001.89\n",
      "derma_log       Skewness: 02.27   Kurtosis: 005.95\n",
      "health_log      Skewness: 01.76   Kurtosis: 003.35\n",
      "bus_log         Skewness: 00.82   Kurtosis: 000.41\n",
      "subway_log      Skewness: 01.74   Kurtosis: 002.56\n"
     ]
    }
   ],
   "source": [
    "#왜도 첨도 확인\n",
    "for col in df1: print('{:15}'.format(col), 'Skewness: {:05.2f}'.format(df1[col].skew()) , ' ' , 'Kurtosis: {:06.2f}'.format(df1[col].kurt()) )"
   ]
  },
  {
   "cell_type": "code",
   "execution_count": 72,
   "metadata": {},
   "outputs": [
    {
     "data": {
      "text/plain": [
       "<matplotlib.axes._subplots.AxesSubplot at 0x1b3763eda08>"
      ]
     },
     "execution_count": 72,
     "metadata": {},
     "output_type": "execute_result"
    },
    {
     "data": {
      "image/png": "[encoded data removed]",
      "text/plain": [
       "<Figure size 432x288 with 1 Axes>"
      ]
     },
     "metadata": {
      "needs_background": "light"
     },
     "output_type": "display_data"
    }
   ],
   "source": [
    "sns.distplot(df1['restaurant_log'])"
   ]
  },
  {
   "cell_type": "code",
   "execution_count": 42,
   "metadata": {},
   "outputs": [],
   "source": [
    "df1.to_excel(excel_writer='ESD_log_all.xlsx')"
   ]
  }
 ],
 "metadata": {
  "kernelspec": {
   "display_name": "Python 3",
   "language": "python",
   "name": "python3"
  },
  "language_info": {
   "codemirror_mode": {
    "name": "ipython",
    "version": 3
   },
   "file_extension": ".py",
   "mimetype": "text/x-python",
   "name": "python",
   "nbconvert_exporter": "python",
   "pygments_lexer": "ipython3",
   "version": "3.7.7"
  },
  "toc": {
   "base_numbering": 1,
   "nav_menu": {},
   "number_sections": true,
   "sideBar": true,
   "skip_h1_title": false,
   "title_cell": "Table of Contents",
   "title_sidebar": "Contents",
   "toc_cell": false,
   "toc_position": {},
   "toc_section_display": true,
   "toc_window_display": false
  }
 },
 "nbformat": 4,
 "nbformat_minor": 4
}

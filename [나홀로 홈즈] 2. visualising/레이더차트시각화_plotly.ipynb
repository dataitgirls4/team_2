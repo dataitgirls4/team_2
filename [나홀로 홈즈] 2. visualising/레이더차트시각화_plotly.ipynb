{
 "cells": [
  {
   "cell_type": "code",
   "execution_count": 22,
   "metadata": {},
   "outputs": [
    {
     "name": "stdout",
     "output_type": "stream",
     "text": [
      "Collecting plotly\n",
      "  Downloading plotly-4.13.0-py2.py3-none-any.whl (13.1 MB)\n",
      "Requirement already satisfied: six in c:\\python\\lib\\site-packages (from plotly) (1.15.0)\n",
      "Collecting retrying>=1.3.3\n",
      "  Downloading retrying-1.3.3.tar.gz (10 kB)\n",
      "Building wheels for collected packages: retrying\n",
      "  Building wheel for retrying (setup.py): started\n",
      "  Building wheel for retrying (setup.py): finished with status 'done'\n",
      "  Created wheel for retrying: filename=retrying-1.3.3-py3-none-any.whl size=11435 sha256=d8566807bf60c5be6e090c885ab307ffbccb399618217af3110fba7908ea0c84\n",
      "  Stored in directory: c:\\users\\김나영\\appdata\\local\\pip\\cache\\wheels\\f9\\8d\\8d\\f6af3f7f9eea3553bc2fe6d53e4b287dad18b06a861ac56ddf\n",
      "Successfully built retrying\n",
      "Installing collected packages: retrying, plotly\n",
      "Successfully installed plotly-4.13.0 retrying-1.3.3\n",
      "Note: you may need to restart the kernel to use updated packages.\n"
     ]
    }
   ],
   "source": [
    "pip install plotly"
   ]
  },
  {
   "cell_type": "code",
   "execution_count": 3,
   "metadata": {},
   "outputs": [],
   "source": [
    "import pandas as pd"
   ]
  },
  {
   "cell_type": "markdown",
   "metadata": {},
   "source": [
    "### 38개 지역 스코어 데이터 및 425개 동의 중간값 데이터 로드 "
   ]
  },
  {
   "cell_type": "code",
   "execution_count": 10,
   "metadata": {
    "scrolled": true
   },
   "outputs": [],
   "source": [
    "df = pd.read_excel('data/score_median.xlsx')"
   ]
  },
  {
   "cell_type": "code",
   "execution_count": 11,
   "metadata": {},
   "outputs": [],
   "source": [
    "# 인덱스를 동으로 맞춰서 뽑을수 있도록 조정\n",
    "df = df.set_index('dong', drop=True, append=False)"
   ]
  },
  {
   "cell_type": "code",
   "execution_count": 12,
   "metadata": {
    "scrolled": true
   },
   "outputs": [
    {
     "data": {
      "text/html": [
       "<div>\n",
       "<style scoped>\n",
       "    .dataframe tbody tr th:only-of-type {\n",
       "        vertical-align: middle;\n",
       "    }\n",
       "\n",
       "    .dataframe tbody tr th {\n",
       "        vertical-align: top;\n",
       "    }\n",
       "\n",
       "    .dataframe thead th {\n",
       "        text-align: right;\n",
       "    }\n",
       "</style>\n",
       "<table border=\"1\" class=\"dataframe\">\n",
       "  <thead>\n",
       "    <tr style=\"text-align: right;\">\n",
       "      <th></th>\n",
       "      <th>dong_code</th>\n",
       "      <th>safety_score_minmax</th>\n",
       "      <th>selfcare_score_minmax</th>\n",
       "      <th>leisure_score_minmax</th>\n",
       "      <th>traffic_score_minmax</th>\n",
       "      <th>consume_score_minmax</th>\n",
       "      <th>sum</th>\n",
       "    </tr>\n",
       "    <tr>\n",
       "      <th>dong</th>\n",
       "      <th></th>\n",
       "      <th></th>\n",
       "      <th></th>\n",
       "      <th></th>\n",
       "      <th></th>\n",
       "      <th></th>\n",
       "      <th></th>\n",
       "    </tr>\n",
       "  </thead>\n",
       "  <tbody>\n",
       "    <tr>\n",
       "      <th>역삼1동</th>\n",
       "      <td>1123064</td>\n",
       "      <td>6.505596</td>\n",
       "      <td>10.000000</td>\n",
       "      <td>8.698384</td>\n",
       "      <td>9.024968</td>\n",
       "      <td>10.000000</td>\n",
       "      <td>44.228949</td>\n",
       "    </tr>\n",
       "    <tr>\n",
       "      <th>서교동</th>\n",
       "      <td>1114066</td>\n",
       "      <td>6.097136</td>\n",
       "      <td>8.330126</td>\n",
       "      <td>8.698384</td>\n",
       "      <td>10.000000</td>\n",
       "      <td>10.000000</td>\n",
       "      <td>43.125647</td>\n",
       "    </tr>\n",
       "    <tr>\n",
       "      <th>논현2동</th>\n",
       "      <td>1123053</td>\n",
       "      <td>5.646436</td>\n",
       "      <td>9.279599</td>\n",
       "      <td>2.679119</td>\n",
       "      <td>5.584292</td>\n",
       "      <td>8.986459</td>\n",
       "      <td>32.175905</td>\n",
       "    </tr>\n",
       "    <tr>\n",
       "      <th>서초3동</th>\n",
       "      <td>1122053</td>\n",
       "      <td>7.331865</td>\n",
       "      <td>4.661213</td>\n",
       "      <td>2.978336</td>\n",
       "      <td>8.196490</td>\n",
       "      <td>8.438792</td>\n",
       "      <td>31.606697</td>\n",
       "    </tr>\n",
       "    <tr>\n",
       "      <th>삼성1동</th>\n",
       "      <td>1123058</td>\n",
       "      <td>5.780857</td>\n",
       "      <td>4.952087</td>\n",
       "      <td>3.836817</td>\n",
       "      <td>7.626870</td>\n",
       "      <td>7.460225</td>\n",
       "      <td>29.656856</td>\n",
       "    </tr>\n",
       "    <tr>\n",
       "      <th>양재1동</th>\n",
       "      <td>1122066</td>\n",
       "      <td>8.969647</td>\n",
       "      <td>3.825563</td>\n",
       "      <td>5.144363</td>\n",
       "      <td>5.464035</td>\n",
       "      <td>5.440755</td>\n",
       "      <td>28.844362</td>\n",
       "    </tr>\n",
       "    <tr>\n",
       "      <th>논현1동</th>\n",
       "      <td>1123052</td>\n",
       "      <td>4.986968</td>\n",
       "      <td>8.422111</td>\n",
       "      <td>2.896152</td>\n",
       "      <td>3.103981</td>\n",
       "      <td>8.627136</td>\n",
       "      <td>28.036349</td>\n",
       "    </tr>\n",
       "    <tr>\n",
       "      <th>양재2동</th>\n",
       "      <td>1122067</td>\n",
       "      <td>9.023206</td>\n",
       "      <td>2.165460</td>\n",
       "      <td>4.875985</td>\n",
       "      <td>5.433301</td>\n",
       "      <td>5.520625</td>\n",
       "      <td>27.018577</td>\n",
       "    </tr>\n",
       "    <tr>\n",
       "      <th>노량진1동</th>\n",
       "      <td>1120072</td>\n",
       "      <td>5.133006</td>\n",
       "      <td>2.290095</td>\n",
       "      <td>6.092965</td>\n",
       "      <td>7.711831</td>\n",
       "      <td>3.932365</td>\n",
       "      <td>25.160262</td>\n",
       "    </tr>\n",
       "    <tr>\n",
       "      <th>용신동</th>\n",
       "      <td>1106081</td>\n",
       "      <td>7.022872</td>\n",
       "      <td>1.929401</td>\n",
       "      <td>4.322041</td>\n",
       "      <td>6.982308</td>\n",
       "      <td>4.872574</td>\n",
       "      <td>25.129196</td>\n",
       "    </tr>\n",
       "    <tr>\n",
       "      <th>문래동</th>\n",
       "      <td>1119076</td>\n",
       "      <td>5.439967</td>\n",
       "      <td>3.274215</td>\n",
       "      <td>4.166923</td>\n",
       "      <td>5.294063</td>\n",
       "      <td>5.075514</td>\n",
       "      <td>23.250683</td>\n",
       "    </tr>\n",
       "    <tr>\n",
       "      <th>한남동</th>\n",
       "      <td>1103074</td>\n",
       "      <td>5.118610</td>\n",
       "      <td>3.593016</td>\n",
       "      <td>4.166923</td>\n",
       "      <td>4.459426</td>\n",
       "      <td>5.779115</td>\n",
       "      <td>23.117089</td>\n",
       "    </tr>\n",
       "    <tr>\n",
       "      <th>연희동</th>\n",
       "      <td>1113076</td>\n",
       "      <td>8.271104</td>\n",
       "      <td>1.963467</td>\n",
       "      <td>4.322041</td>\n",
       "      <td>4.545018</td>\n",
       "      <td>3.976709</td>\n",
       "      <td>23.078338</td>\n",
       "    </tr>\n",
       "    <tr>\n",
       "      <th>대흥동</th>\n",
       "      <td>1114060</td>\n",
       "      <td>6.453171</td>\n",
       "      <td>2.678273</td>\n",
       "      <td>4.166923</td>\n",
       "      <td>5.388200</td>\n",
       "      <td>3.904787</td>\n",
       "      <td>22.591355</td>\n",
       "    </tr>\n",
       "    <tr>\n",
       "      <th>방화1동</th>\n",
       "      <td>1116070</td>\n",
       "      <td>5.273498</td>\n",
       "      <td>4.355271</td>\n",
       "      <td>4.166923</td>\n",
       "      <td>5.291521</td>\n",
       "      <td>3.353818</td>\n",
       "      <td>22.441032</td>\n",
       "    </tr>\n",
       "    <tr>\n",
       "      <th>흑석동</th>\n",
       "      <td>1120071</td>\n",
       "      <td>5.393207</td>\n",
       "      <td>2.091331</td>\n",
       "      <td>6.093730</td>\n",
       "      <td>6.227622</td>\n",
       "      <td>2.628626</td>\n",
       "      <td>22.434514</td>\n",
       "    </tr>\n",
       "    <tr>\n",
       "      <th>독산1동</th>\n",
       "      <td>1118052</td>\n",
       "      <td>5.403650</td>\n",
       "      <td>2.587318</td>\n",
       "      <td>4.899930</td>\n",
       "      <td>5.272212</td>\n",
       "      <td>4.086477</td>\n",
       "      <td>22.249587</td>\n",
       "    </tr>\n",
       "    <tr>\n",
       "      <th>공릉2동</th>\n",
       "      <td>1111056</td>\n",
       "      <td>5.486919</td>\n",
       "      <td>1.596685</td>\n",
       "      <td>6.420723</td>\n",
       "      <td>4.944603</td>\n",
       "      <td>3.609722</td>\n",
       "      <td>22.058652</td>\n",
       "    </tr>\n",
       "    <tr>\n",
       "      <th>공릉1동</th>\n",
       "      <td>1111079</td>\n",
       "      <td>6.072011</td>\n",
       "      <td>3.418012</td>\n",
       "      <td>2.679119</td>\n",
       "      <td>5.361696</td>\n",
       "      <td>4.181524</td>\n",
       "      <td>21.712362</td>\n",
       "    </tr>\n",
       "    <tr>\n",
       "      <th>상도1동</th>\n",
       "      <td>1120053</td>\n",
       "      <td>5.189620</td>\n",
       "      <td>2.125006</td>\n",
       "      <td>5.180243</td>\n",
       "      <td>4.914735</td>\n",
       "      <td>3.620642</td>\n",
       "      <td>21.030247</td>\n",
       "    </tr>\n",
       "    <tr>\n",
       "      <th>녹번동</th>\n",
       "      <td>1112051</td>\n",
       "      <td>7.053365</td>\n",
       "      <td>1.996881</td>\n",
       "      <td>5.443288</td>\n",
       "      <td>3.622470</td>\n",
       "      <td>2.911919</td>\n",
       "      <td>21.027923</td>\n",
       "    </tr>\n",
       "    <tr>\n",
       "      <th>오류2동</th>\n",
       "      <td>1117073</td>\n",
       "      <td>6.262878</td>\n",
       "      <td>2.062882</td>\n",
       "      <td>3.836817</td>\n",
       "      <td>5.863569</td>\n",
       "      <td>2.697559</td>\n",
       "      <td>20.723704</td>\n",
       "    </tr>\n",
       "    <tr>\n",
       "      <th>성북동</th>\n",
       "      <td>1108081</td>\n",
       "      <td>8.762911</td>\n",
       "      <td>1.984813</td>\n",
       "      <td>3.270831</td>\n",
       "      <td>3.777170</td>\n",
       "      <td>2.882893</td>\n",
       "      <td>20.678618</td>\n",
       "    </tr>\n",
       "    <tr>\n",
       "      <th>역촌동</th>\n",
       "      <td>1112074</td>\n",
       "      <td>5.788523</td>\n",
       "      <td>2.526444</td>\n",
       "      <td>3.910313</td>\n",
       "      <td>4.251872</td>\n",
       "      <td>4.049678</td>\n",
       "      <td>20.526828</td>\n",
       "    </tr>\n",
       "    <tr>\n",
       "      <th>망우본동</th>\n",
       "      <td>1107073</td>\n",
       "      <td>5.080613</td>\n",
       "      <td>2.554131</td>\n",
       "      <td>4.166923</td>\n",
       "      <td>5.132858</td>\n",
       "      <td>3.143208</td>\n",
       "      <td>20.077733</td>\n",
       "    </tr>\n",
       "    <tr>\n",
       "      <th>청룡동</th>\n",
       "      <td>1121080</td>\n",
       "      <td>5.401163</td>\n",
       "      <td>3.454474</td>\n",
       "      <td>4.166923</td>\n",
       "      <td>3.315204</td>\n",
       "      <td>3.684539</td>\n",
       "      <td>20.022303</td>\n",
       "    </tr>\n",
       "    <tr>\n",
       "      <th>구로5동</th>\n",
       "      <td>1117056</td>\n",
       "      <td>5.204790</td>\n",
       "      <td>5.412472</td>\n",
       "      <td>2.679119</td>\n",
       "      <td>2.733422</td>\n",
       "      <td>3.936998</td>\n",
       "      <td>19.966802</td>\n",
       "    </tr>\n",
       "    <tr>\n",
       "      <th>종암동</th>\n",
       "      <td>1108084</td>\n",
       "      <td>6.867728</td>\n",
       "      <td>1.843068</td>\n",
       "      <td>3.860668</td>\n",
       "      <td>4.533169</td>\n",
       "      <td>2.859175</td>\n",
       "      <td>19.963808</td>\n",
       "    </tr>\n",
       "    <tr>\n",
       "      <th>성산2동</th>\n",
       "      <td>1114073</td>\n",
       "      <td>6.557405</td>\n",
       "      <td>1.581246</td>\n",
       "      <td>4.110843</td>\n",
       "      <td>3.995420</td>\n",
       "      <td>2.805141</td>\n",
       "      <td>19.050055</td>\n",
       "    </tr>\n",
       "    <tr>\n",
       "      <th>공덕동</th>\n",
       "      <td>1114077</td>\n",
       "      <td>8.182793</td>\n",
       "      <td>2.689852</td>\n",
       "      <td>2.173490</td>\n",
       "      <td>2.810663</td>\n",
       "      <td>3.080855</td>\n",
       "      <td>18.937652</td>\n",
       "    </tr>\n",
       "    <tr>\n",
       "      <th>오금동</th>\n",
       "      <td>1124060</td>\n",
       "      <td>5.550538</td>\n",
       "      <td>1.969036</td>\n",
       "      <td>3.556899</td>\n",
       "      <td>4.968886</td>\n",
       "      <td>2.674203</td>\n",
       "      <td>18.719561</td>\n",
       "    </tr>\n",
       "    <tr>\n",
       "      <th>월곡2동</th>\n",
       "      <td>1108072</td>\n",
       "      <td>5.764829</td>\n",
       "      <td>1.581246</td>\n",
       "      <td>5.150793</td>\n",
       "      <td>3.233523</td>\n",
       "      <td>2.541309</td>\n",
       "      <td>18.271700</td>\n",
       "    </tr>\n",
       "    <tr>\n",
       "      <th>개봉1동</th>\n",
       "      <td>1117072</td>\n",
       "      <td>5.795374</td>\n",
       "      <td>2.030423</td>\n",
       "      <td>3.547035</td>\n",
       "      <td>3.990875</td>\n",
       "      <td>2.411166</td>\n",
       "      <td>17.774873</td>\n",
       "    </tr>\n",
       "    <tr>\n",
       "      <th>상계1동</th>\n",
       "      <td>1111065</td>\n",
       "      <td>5.021476</td>\n",
       "      <td>1.816498</td>\n",
       "      <td>3.860668</td>\n",
       "      <td>3.311643</td>\n",
       "      <td>3.529331</td>\n",
       "      <td>17.539616</td>\n",
       "    </tr>\n",
       "    <tr>\n",
       "      <th>면목본동</th>\n",
       "      <td>1107071</td>\n",
       "      <td>6.053047</td>\n",
       "      <td>2.831323</td>\n",
       "      <td>2.896152</td>\n",
       "      <td>2.836121</td>\n",
       "      <td>2.871075</td>\n",
       "      <td>17.487717</td>\n",
       "    </tr>\n",
       "    <tr>\n",
       "      <th>성수1가2동</th>\n",
       "      <td>1104066</td>\n",
       "      <td>5.288590</td>\n",
       "      <td>2.744224</td>\n",
       "      <td>2.059231</td>\n",
       "      <td>2.882776</td>\n",
       "      <td>3.514992</td>\n",
       "      <td>16.489813</td>\n",
       "    </tr>\n",
       "    <tr>\n",
       "      <th>북가좌2동</th>\n",
       "      <td>1113072</td>\n",
       "      <td>5.809728</td>\n",
       "      <td>1.847742</td>\n",
       "      <td>2.502998</td>\n",
       "      <td>2.887472</td>\n",
       "      <td>2.635446</td>\n",
       "      <td>15.683387</td>\n",
       "    </tr>\n",
       "    <tr>\n",
       "      <th>면목3·8동</th>\n",
       "      <td>1107072</td>\n",
       "      <td>5.064938</td>\n",
       "      <td>2.141958</td>\n",
       "      <td>2.211011</td>\n",
       "      <td>2.916526</td>\n",
       "      <td>2.792607</td>\n",
       "      <td>15.127041</td>\n",
       "    </tr>\n",
       "    <tr>\n",
       "      <th>중간값</th>\n",
       "      <td>0</td>\n",
       "      <td>4.493900</td>\n",
       "      <td>1.563694</td>\n",
       "      <td>2.059231</td>\n",
       "      <td>2.655745</td>\n",
       "      <td>2.134694</td>\n",
       "      <td>12.907264</td>\n",
       "    </tr>\n",
       "  </tbody>\n",
       "</table>\n",
       "</div>"
      ],
      "text/plain": [
       "        dong_code  safety_score_minmax  selfcare_score_minmax  \\\n",
       "dong                                                            \n",
       "역삼1동      1123064             6.505596              10.000000   \n",
       "서교동       1114066             6.097136               8.330126   \n",
       "논현2동      1123053             5.646436               9.279599   \n",
       "서초3동      1122053             7.331865               4.661213   \n",
       "삼성1동      1123058             5.780857               4.952087   \n",
       "양재1동      1122066             8.969647               3.825563   \n",
       "논현1동      1123052             4.986968               8.422111   \n",
       "양재2동      1122067             9.023206               2.165460   \n",
       "노량진1동     1120072             5.133006               2.290095   \n",
       "용신동       1106081             7.022872               1.929401   \n",
       "문래동       1119076             5.439967               3.274215   \n",
       "한남동       1103074             5.118610               3.593016   \n",
       "연희동       1113076             8.271104               1.963467   \n",
       "대흥동       1114060             6.453171               2.678273   \n",
       "방화1동      1116070             5.273498               4.355271   \n",
       "흑석동       1120071             5.393207               2.091331   \n",
       "독산1동      1118052             5.403650               2.587318   \n",
       "공릉2동      1111056             5.486919               1.596685   \n",
       "공릉1동      1111079             6.072011               3.418012   \n",
       "상도1동      1120053             5.189620               2.125006   \n",
       "녹번동       1112051             7.053365               1.996881   \n",
       "오류2동      1117073             6.262878               2.062882   \n",
       "성북동       1108081             8.762911               1.984813   \n",
       "역촌동       1112074             5.788523               2.526444   \n",
       "망우본동      1107073             5.080613               2.554131   \n",
       "청룡동       1121080             5.401163               3.454474   \n",
       "구로5동      1117056             5.204790               5.412472   \n",
       "종암동       1108084             6.867728               1.843068   \n",
       "성산2동      1114073             6.557405               1.581246   \n",
       "공덕동       1114077             8.182793               2.689852   \n",
       "오금동       1124060             5.550538               1.969036   \n",
       "월곡2동      1108072             5.764829               1.581246   \n",
       "개봉1동      1117072             5.795374               2.030423   \n",
       "상계1동      1111065             5.021476               1.816498   \n",
       "면목본동      1107071             6.053047               2.831323   \n",
       "성수1가2동    1104066             5.288590               2.744224   \n",
       "북가좌2동     1113072             5.809728               1.847742   \n",
       "면목3·8동    1107072             5.064938               2.141958   \n",
       "중간값             0             4.493900               1.563694   \n",
       "\n",
       "        leisure_score_minmax  traffic_score_minmax  consume_score_minmax  \\\n",
       "dong                                                                       \n",
       "역삼1동                8.698384              9.024968             10.000000   \n",
       "서교동                 8.698384             10.000000             10.000000   \n",
       "논현2동                2.679119              5.584292              8.986459   \n",
       "서초3동                2.978336              8.196490              8.438792   \n",
       "삼성1동                3.836817              7.626870              7.460225   \n",
       "양재1동                5.144363              5.464035              5.440755   \n",
       "논현1동                2.896152              3.103981              8.627136   \n",
       "양재2동                4.875985              5.433301              5.520625   \n",
       "노량진1동               6.092965              7.711831              3.932365   \n",
       "용신동                 4.322041              6.982308              4.872574   \n",
       "문래동                 4.166923              5.294063              5.075514   \n",
       "한남동                 4.166923              4.459426              5.779115   \n",
       "연희동                 4.322041              4.545018              3.976709   \n",
       "대흥동                 4.166923              5.388200              3.904787   \n",
       "방화1동                4.166923              5.291521              3.353818   \n",
       "흑석동                 6.093730              6.227622              2.628626   \n",
       "독산1동                4.899930              5.272212              4.086477   \n",
       "공릉2동                6.420723              4.944603              3.609722   \n",
       "공릉1동                2.679119              5.361696              4.181524   \n",
       "상도1동                5.180243              4.914735              3.620642   \n",
       "녹번동                 5.443288              3.622470              2.911919   \n",
       "오류2동                3.836817              5.863569              2.697559   \n",
       "성북동                 3.270831              3.777170              2.882893   \n",
       "역촌동                 3.910313              4.251872              4.049678   \n",
       "망우본동                4.166923              5.132858              3.143208   \n",
       "청룡동                 4.166923              3.315204              3.684539   \n",
       "구로5동                2.679119              2.733422              3.936998   \n",
       "종암동                 3.860668              4.533169              2.859175   \n",
       "성산2동                4.110843              3.995420              2.805141   \n",
       "공덕동                 2.173490              2.810663              3.080855   \n",
       "오금동                 3.556899              4.968886              2.674203   \n",
       "월곡2동                5.150793              3.233523              2.541309   \n",
       "개봉1동                3.547035              3.990875              2.411166   \n",
       "상계1동                3.860668              3.311643              3.529331   \n",
       "면목본동                2.896152              2.836121              2.871075   \n",
       "성수1가2동              2.059231              2.882776              3.514992   \n",
       "북가좌2동               2.502998              2.887472              2.635446   \n",
       "면목3·8동              2.211011              2.916526              2.792607   \n",
       "중간값                 2.059231              2.655745              2.134694   \n",
       "\n",
       "              sum  \n",
       "dong               \n",
       "역삼1동    44.228949  \n",
       "서교동     43.125647  \n",
       "논현2동    32.175905  \n",
       "서초3동    31.606697  \n",
       "삼성1동    29.656856  \n",
       "양재1동    28.844362  \n",
       "논현1동    28.036349  \n",
       "양재2동    27.018577  \n",
       "노량진1동   25.160262  \n",
       "용신동     25.129196  \n",
       "문래동     23.250683  \n",
       "한남동     23.117089  \n",
       "연희동     23.078338  \n",
       "대흥동     22.591355  \n",
       "방화1동    22.441032  \n",
       "흑석동     22.434514  \n",
       "독산1동    22.249587  \n",
       "공릉2동    22.058652  \n",
       "공릉1동    21.712362  \n",
       "상도1동    21.030247  \n",
       "녹번동     21.027923  \n",
       "오류2동    20.723704  \n",
       "성북동     20.678618  \n",
       "역촌동     20.526828  \n",
       "망우본동    20.077733  \n",
       "청룡동     20.022303  \n",
       "구로5동    19.966802  \n",
       "종암동     19.963808  \n",
       "성산2동    19.050055  \n",
       "공덕동     18.937652  \n",
       "오금동     18.719561  \n",
       "월곡2동    18.271700  \n",
       "개봉1동    17.774873  \n",
       "상계1동    17.539616  \n",
       "면목본동    17.487717  \n",
       "성수1가2동  16.489813  \n",
       "북가좌2동   15.683387  \n",
       "면목3·8동  15.127041  \n",
       "중간값     12.907264  "
      ]
     },
     "execution_count": 12,
     "metadata": {},
     "output_type": "execute_result"
    }
   ],
   "source": [
    "df"
   ]
  },
  {
   "cell_type": "code",
   "execution_count": 14,
   "metadata": {
    "scrolled": true
   },
   "outputs": [],
   "source": [
    "# 레이더 차트 스코어에 필요한 데이터만 가져오기\n",
    "df2 = df.iloc[:, 1:6]"
   ]
  },
  {
   "cell_type": "code",
   "execution_count": 15,
   "metadata": {},
   "outputs": [
    {
     "data": {
      "text/html": [
       "<div>\n",
       "<style scoped>\n",
       "    .dataframe tbody tr th:only-of-type {\n",
       "        vertical-align: middle;\n",
       "    }\n",
       "\n",
       "    .dataframe tbody tr th {\n",
       "        vertical-align: top;\n",
       "    }\n",
       "\n",
       "    .dataframe thead th {\n",
       "        text-align: right;\n",
       "    }\n",
       "</style>\n",
       "<table border=\"1\" class=\"dataframe\">\n",
       "  <thead>\n",
       "    <tr style=\"text-align: right;\">\n",
       "      <th></th>\n",
       "      <th>safety_score_minmax</th>\n",
       "      <th>selfcare_score_minmax</th>\n",
       "      <th>leisure_score_minmax</th>\n",
       "      <th>traffic_score_minmax</th>\n",
       "      <th>consume_score_minmax</th>\n",
       "    </tr>\n",
       "    <tr>\n",
       "      <th>dong</th>\n",
       "      <th></th>\n",
       "      <th></th>\n",
       "      <th></th>\n",
       "      <th></th>\n",
       "      <th></th>\n",
       "    </tr>\n",
       "  </thead>\n",
       "  <tbody>\n",
       "    <tr>\n",
       "      <th>역삼1동</th>\n",
       "      <td>6.505596</td>\n",
       "      <td>10.000000</td>\n",
       "      <td>8.698384</td>\n",
       "      <td>9.024968</td>\n",
       "      <td>10.000000</td>\n",
       "    </tr>\n",
       "    <tr>\n",
       "      <th>서교동</th>\n",
       "      <td>6.097136</td>\n",
       "      <td>8.330126</td>\n",
       "      <td>8.698384</td>\n",
       "      <td>10.000000</td>\n",
       "      <td>10.000000</td>\n",
       "    </tr>\n",
       "    <tr>\n",
       "      <th>논현2동</th>\n",
       "      <td>5.646436</td>\n",
       "      <td>9.279599</td>\n",
       "      <td>2.679119</td>\n",
       "      <td>5.584292</td>\n",
       "      <td>8.986459</td>\n",
       "    </tr>\n",
       "    <tr>\n",
       "      <th>서초3동</th>\n",
       "      <td>7.331865</td>\n",
       "      <td>4.661213</td>\n",
       "      <td>2.978336</td>\n",
       "      <td>8.196490</td>\n",
       "      <td>8.438792</td>\n",
       "    </tr>\n",
       "    <tr>\n",
       "      <th>삼성1동</th>\n",
       "      <td>5.780857</td>\n",
       "      <td>4.952087</td>\n",
       "      <td>3.836817</td>\n",
       "      <td>7.626870</td>\n",
       "      <td>7.460225</td>\n",
       "    </tr>\n",
       "  </tbody>\n",
       "</table>\n",
       "</div>"
      ],
      "text/plain": [
       "      safety_score_minmax  selfcare_score_minmax  leisure_score_minmax  \\\n",
       "dong                                                                     \n",
       "역삼1동             6.505596              10.000000              8.698384   \n",
       "서교동              6.097136               8.330126              8.698384   \n",
       "논현2동             5.646436               9.279599              2.679119   \n",
       "서초3동             7.331865               4.661213              2.978336   \n",
       "삼성1동             5.780857               4.952087              3.836817   \n",
       "\n",
       "      traffic_score_minmax  consume_score_minmax  \n",
       "dong                                              \n",
       "역삼1동              9.024968             10.000000  \n",
       "서교동              10.000000             10.000000  \n",
       "논현2동              5.584292              8.986459  \n",
       "서초3동              8.196490              8.438792  \n",
       "삼성1동              7.626870              7.460225  "
      ]
     },
     "execution_count": 15,
     "metadata": {},
     "output_type": "execute_result"
    }
   ],
   "source": [
    "df2.head()"
   ]
  },
  {
   "cell_type": "code",
   "execution_count": 16,
   "metadata": {},
   "outputs": [],
   "source": [
    "# 위의 df2에서 특정 동만 가져올 수 있도록 작성 -> 다시 df2에 저장하고 칼럼을 재설정함\n",
    "df2 = df2.loc[['공릉2동', '흑석동', '공덕동', '중간값']]\n",
    "df2.reset_index()\n",
    "df2.rename(columns={\"safety_score_minmax\":\"밤길안녕지수\",\n",
    "                                        \"selfcare_score_minmax\": \"Me코노미지수\",\n",
    "                                        \"leisure_score_minmax\": \"유유자적지수\",\n",
    "                                        \"traffic_score_minmax\" : \"통근왕지수\",\n",
    "                                        \"consume_score_minmax\" : \"슬리퍼지수\"}, inplace=True)"
   ]
  },
  {
   "cell_type": "code",
   "execution_count": 17,
   "metadata": {},
   "outputs": [
    {
     "data": {
      "text/html": [
       "<div>\n",
       "<style scoped>\n",
       "    .dataframe tbody tr th:only-of-type {\n",
       "        vertical-align: middle;\n",
       "    }\n",
       "\n",
       "    .dataframe tbody tr th {\n",
       "        vertical-align: top;\n",
       "    }\n",
       "\n",
       "    .dataframe thead th {\n",
       "        text-align: right;\n",
       "    }\n",
       "</style>\n",
       "<table border=\"1\" class=\"dataframe\">\n",
       "  <thead>\n",
       "    <tr style=\"text-align: right;\">\n",
       "      <th></th>\n",
       "      <th>밤길안녕지수</th>\n",
       "      <th>Me코노미지수</th>\n",
       "      <th>유유자적지수</th>\n",
       "      <th>통근왕지수</th>\n",
       "      <th>슬리퍼지수</th>\n",
       "    </tr>\n",
       "    <tr>\n",
       "      <th>dong</th>\n",
       "      <th></th>\n",
       "      <th></th>\n",
       "      <th></th>\n",
       "      <th></th>\n",
       "      <th></th>\n",
       "    </tr>\n",
       "  </thead>\n",
       "  <tbody>\n",
       "    <tr>\n",
       "      <th>공릉2동</th>\n",
       "      <td>5.486919</td>\n",
       "      <td>1.596685</td>\n",
       "      <td>6.420723</td>\n",
       "      <td>4.944603</td>\n",
       "      <td>3.609722</td>\n",
       "    </tr>\n",
       "    <tr>\n",
       "      <th>흑석동</th>\n",
       "      <td>5.393207</td>\n",
       "      <td>2.091331</td>\n",
       "      <td>6.093730</td>\n",
       "      <td>6.227622</td>\n",
       "      <td>2.628626</td>\n",
       "    </tr>\n",
       "    <tr>\n",
       "      <th>공덕동</th>\n",
       "      <td>8.182793</td>\n",
       "      <td>2.689852</td>\n",
       "      <td>2.173490</td>\n",
       "      <td>2.810663</td>\n",
       "      <td>3.080855</td>\n",
       "    </tr>\n",
       "    <tr>\n",
       "      <th>중간값</th>\n",
       "      <td>4.493900</td>\n",
       "      <td>1.563694</td>\n",
       "      <td>2.059231</td>\n",
       "      <td>2.655745</td>\n",
       "      <td>2.134694</td>\n",
       "    </tr>\n",
       "  </tbody>\n",
       "</table>\n",
       "</div>"
      ],
      "text/plain": [
       "        밤길안녕지수   Me코노미지수    유유자적지수     통근왕지수     슬리퍼지수\n",
       "dong                                                  \n",
       "공릉2동  5.486919  1.596685  6.420723  4.944603  3.609722\n",
       "흑석동   5.393207  2.091331  6.093730  6.227622  2.628626\n",
       "공덕동   8.182793  2.689852  2.173490  2.810663  3.080855\n",
       "중간값   4.493900  1.563694  2.059231  2.655745  2.134694"
      ]
     },
     "execution_count": 17,
     "metadata": {},
     "output_type": "execute_result"
    }
   ],
   "source": [
    "df2"
   ]
  },
  {
   "cell_type": "code",
   "execution_count": 18,
   "metadata": {},
   "outputs": [],
   "source": [
    "# 편하게 시각화 할수있도록 행열전환\n",
    "df2 = df2.transpose()"
   ]
  },
  {
   "cell_type": "code",
   "execution_count": 19,
   "metadata": {},
   "outputs": [
    {
     "data": {
      "text/html": [
       "<div>\n",
       "<style scoped>\n",
       "    .dataframe tbody tr th:only-of-type {\n",
       "        vertical-align: middle;\n",
       "    }\n",
       "\n",
       "    .dataframe tbody tr th {\n",
       "        vertical-align: top;\n",
       "    }\n",
       "\n",
       "    .dataframe thead th {\n",
       "        text-align: right;\n",
       "    }\n",
       "</style>\n",
       "<table border=\"1\" class=\"dataframe\">\n",
       "  <thead>\n",
       "    <tr style=\"text-align: right;\">\n",
       "      <th>dong</th>\n",
       "      <th>공릉2동</th>\n",
       "      <th>흑석동</th>\n",
       "      <th>공덕동</th>\n",
       "      <th>중간값</th>\n",
       "    </tr>\n",
       "  </thead>\n",
       "  <tbody>\n",
       "    <tr>\n",
       "      <th>밤길안녕지수</th>\n",
       "      <td>5.486919</td>\n",
       "      <td>5.393207</td>\n",
       "      <td>8.182793</td>\n",
       "      <td>4.493900</td>\n",
       "    </tr>\n",
       "    <tr>\n",
       "      <th>Me코노미지수</th>\n",
       "      <td>1.596685</td>\n",
       "      <td>2.091331</td>\n",
       "      <td>2.689852</td>\n",
       "      <td>1.563694</td>\n",
       "    </tr>\n",
       "    <tr>\n",
       "      <th>유유자적지수</th>\n",
       "      <td>6.420723</td>\n",
       "      <td>6.093730</td>\n",
       "      <td>2.173490</td>\n",
       "      <td>2.059231</td>\n",
       "    </tr>\n",
       "    <tr>\n",
       "      <th>통근왕지수</th>\n",
       "      <td>4.944603</td>\n",
       "      <td>6.227622</td>\n",
       "      <td>2.810663</td>\n",
       "      <td>2.655745</td>\n",
       "    </tr>\n",
       "    <tr>\n",
       "      <th>슬리퍼지수</th>\n",
       "      <td>3.609722</td>\n",
       "      <td>2.628626</td>\n",
       "      <td>3.080855</td>\n",
       "      <td>2.134694</td>\n",
       "    </tr>\n",
       "  </tbody>\n",
       "</table>\n",
       "</div>"
      ],
      "text/plain": [
       "dong         공릉2동       흑석동       공덕동       중간값\n",
       "밤길안녕지수   5.486919  5.393207  8.182793  4.493900\n",
       "Me코노미지수  1.596685  2.091331  2.689852  1.563694\n",
       "유유자적지수   6.420723  6.093730  2.173490  2.059231\n",
       "통근왕지수    4.944603  6.227622  2.810663  2.655745\n",
       "슬리퍼지수    3.609722  2.628626  3.080855  2.134694"
      ]
     },
     "execution_count": 19,
     "metadata": {},
     "output_type": "execute_result"
    }
   ],
   "source": [
    "df2"
   ]
  },
  {
   "cell_type": "markdown",
   "metadata": {},
   "source": [
    "## plotly 시각화"
   ]
  },
  {
   "cell_type": "code",
   "execution_count": 21,
   "metadata": {
    "scrolled": true
   },
   "outputs": [
    {
     "ename": "ModuleNotFoundError",
     "evalue": "No module named 'plotly'",
     "output_type": "error",
     "traceback": [
      "\u001b[1;31m---------------------------------------------------------------------------\u001b[0m",
      "\u001b[1;31mModuleNotFoundError\u001b[0m                       Traceback (most recent call last)",
      "\u001b[1;32m<ipython-input-21-412659bfb17a>\u001b[0m in \u001b[0;36m<module>\u001b[1;34m\u001b[0m\n\u001b[0;32m      1\u001b[0m \u001b[1;31m# 하나의 그래프만 띄워보기\u001b[0m\u001b[1;33m\u001b[0m\u001b[1;33m\u001b[0m\u001b[1;33m\u001b[0m\u001b[0m\n\u001b[1;32m----> 2\u001b[1;33m \u001b[1;32mimport\u001b[0m \u001b[0mplotly\u001b[0m\u001b[1;33m.\u001b[0m\u001b[0mexpress\u001b[0m \u001b[1;32mas\u001b[0m \u001b[0mpx\u001b[0m\u001b[1;33m\u001b[0m\u001b[1;33m\u001b[0m\u001b[0m\n\u001b[0m\u001b[0;32m      3\u001b[0m \u001b[1;32mimport\u001b[0m \u001b[0mpandas\u001b[0m \u001b[1;32mas\u001b[0m \u001b[0mpd\u001b[0m\u001b[1;33m\u001b[0m\u001b[1;33m\u001b[0m\u001b[0m\n\u001b[0;32m      4\u001b[0m \u001b[0mfig\u001b[0m \u001b[1;33m=\u001b[0m \u001b[0mpx\u001b[0m\u001b[1;33m.\u001b[0m\u001b[0mline_polar\u001b[0m\u001b[1;33m(\u001b[0m\u001b[0mdf2\u001b[0m\u001b[1;33m,\u001b[0m \u001b[0mr\u001b[0m\u001b[1;33m=\u001b[0m\u001b[1;34m'공릉2동'\u001b[0m\u001b[1;33m,\u001b[0m \u001b[0mtheta\u001b[0m\u001b[1;33m=\u001b[0m\u001b[0mdf2\u001b[0m\u001b[1;33m.\u001b[0m\u001b[0mindex\u001b[0m\u001b[1;33m,\u001b[0m \u001b[0mline_close\u001b[0m\u001b[1;33m=\u001b[0m\u001b[1;32mTrue\u001b[0m\u001b[1;33m)\u001b[0m\u001b[1;33m\u001b[0m\u001b[1;33m\u001b[0m\u001b[0m\n\u001b[0;32m      5\u001b[0m \u001b[0mfig\u001b[0m\u001b[1;33m.\u001b[0m\u001b[0mshow\u001b[0m\u001b[1;33m(\u001b[0m\u001b[1;33m)\u001b[0m\u001b[1;33m\u001b[0m\u001b[1;33m\u001b[0m\u001b[0m\n",
      "\u001b[1;31mModuleNotFoundError\u001b[0m: No module named 'plotly'"
     ]
    }
   ],
   "source": [
    "# 하나의 그래프만 띄워보기\n",
    "import plotly.express as px\n",
    "import pandas as pd\n",
    "fig = px.line_polar(df2, r='공릉2동', theta=df2.index, line_close=True)\n",
    "fig.show()"
   ]
  },
  {
   "cell_type": "code",
   "execution_count": 24,
   "metadata": {
    "scrolled": true
   },
   "outputs": [
    {
     "data": {
      "application/vnd.plotly.v1+json": {
       "config": {
        "plotlyServerURL": "https://plot.ly"
       },
       "data": [
        {
         "fill": "toself",
         "name": "중간값",
         "r": [
          4.493900323877735,
          1.563694126213795,
          2.543523660134479,
          2.65574458160696,
          2.134693817444084
         ],
         "theta": [
          "밤길안녕지수",
          "Me코노미지수",
          "유유자적지수",
          "통근왕지수",
          "슬리퍼지수"
         ],
         "type": "scatterpolar"
        },
        {
         "fill": "toself",
         "name": "공릉2동",
         "r": [
          5.486918719915721,
          1.596684776170045,
          6.420723376148878,
          4.944602645678531,
          3.609722499588779
         ],
         "theta": [
          "밤길안녕지수",
          "Me코노미지수",
          "유유자적지수",
          "통근왕지수",
          "슬리퍼지수"
         ],
         "type": "scatterpolar"
        }
       ],
       "layout": {
        "polar": {
         "radialaxis": {
          "range": [
           0,
           7
          ],
          "visible": true
         }
        },
        "showlegend": false,
        "template": {
         "data": {
          "bar": [
           {
            "error_x": {
             "color": "#2a3f5f"
            },
            "error_y": {
             "color": "#2a3f5f"
            },
            "marker": {
             "line": {
              "color": "#E5ECF6",
              "width": 0.5
             }
            },
            "type": "bar"
           }
          ],
          "barpolar": [
           {
            "marker": {
             "line": {
              "color": "#E5ECF6",
              "width": 0.5
             }
            },
            "type": "barpolar"
           }
          ],
          "carpet": [
           {
            "aaxis": {
             "endlinecolor": "#2a3f5f",
             "gridcolor": "white",
             "linecolor": "white",
             "minorgridcolor": "white",
             "startlinecolor": "#2a3f5f"
            },
            "baxis": {
             "endlinecolor": "#2a3f5f",
             "gridcolor": "white",
             "linecolor": "white",
             "minorgridcolor": "white",
             "startlinecolor": "#2a3f5f"
            },
            "type": "carpet"
           }
          ],
          "choropleth": [
           {
            "colorbar": {
             "outlinewidth": 0,
             "ticks": ""
            },
            "type": "choropleth"
           }
          ],
          "contour": [
           {
            "colorbar": {
             "outlinewidth": 0,
             "ticks": ""
            },
            "colorscale": [
             [
              0,
              "#0d0887"
             ],
             [
              0.1111111111111111,
              "#46039f"
             ],
             [
              0.2222222222222222,
              "#7201a8"
             ],
             [
              0.3333333333333333,
              "#9c179e"
             ],
             [
              0.4444444444444444,
              "#bd3786"
             ],
             [
              0.5555555555555556,
              "#d8576b"
             ],
             [
              0.6666666666666666,
              "#ed7953"
             ],
             [
              0.7777777777777778,
              "#fb9f3a"
             ],
             [
              0.8888888888888888,
              "#fdca26"
             ],
             [
              1,
              "#f0f921"
             ]
            ],
            "type": "contour"
           }
          ],
          "contourcarpet": [
           {
            "colorbar": {
             "outlinewidth": 0,
             "ticks": ""
            },
            "type": "contourcarpet"
           }
          ],
          "heatmap": [
           {
            "colorbar": {
             "outlinewidth": 0,
             "ticks": ""
            },
            "colorscale": [
             [
              0,
              "#0d0887"
             ],
             [
              0.1111111111111111,
              "#46039f"
             ],
             [
              0.2222222222222222,
              "#7201a8"
             ],
             [
              0.3333333333333333,
              "#9c179e"
             ],
             [
              0.4444444444444444,
              "#bd3786"
             ],
             [
              0.5555555555555556,
              "#d8576b"
             ],
             [
              0.6666666666666666,
              "#ed7953"
             ],
             [
              0.7777777777777778,
              "#fb9f3a"
             ],
             [
              0.8888888888888888,
              "#fdca26"
             ],
             [
              1,
              "#f0f921"
             ]
            ],
            "type": "heatmap"
           }
          ],
          "heatmapgl": [
           {
            "colorbar": {
             "outlinewidth": 0,
             "ticks": ""
            },
            "colorscale": [
             [
              0,
              "#0d0887"
             ],
             [
              0.1111111111111111,
              "#46039f"
             ],
             [
              0.2222222222222222,
              "#7201a8"
             ],
             [
              0.3333333333333333,
              "#9c179e"
             ],
             [
              0.4444444444444444,
              "#bd3786"
             ],
             [
              0.5555555555555556,
              "#d8576b"
             ],
             [
              0.6666666666666666,
              "#ed7953"
             ],
             [
              0.7777777777777778,
              "#fb9f3a"
             ],
             [
              0.8888888888888888,
              "#fdca26"
             ],
             [
              1,
              "#f0f921"
             ]
            ],
            "type": "heatmapgl"
           }
          ],
          "histogram": [
           {
            "marker": {
             "colorbar": {
              "outlinewidth": 0,
              "ticks": ""
             }
            },
            "type": "histogram"
           }
          ],
          "histogram2d": [
           {
            "colorbar": {
             "outlinewidth": 0,
             "ticks": ""
            },
            "colorscale": [
             [
              0,
              "#0d0887"
             ],
             [
              0.1111111111111111,
              "#46039f"
             ],
             [
              0.2222222222222222,
              "#7201a8"
             ],
             [
              0.3333333333333333,
              "#9c179e"
             ],
             [
              0.4444444444444444,
              "#bd3786"
             ],
             [
              0.5555555555555556,
              "#d8576b"
             ],
             [
              0.6666666666666666,
              "#ed7953"
             ],
             [
              0.7777777777777778,
              "#fb9f3a"
             ],
             [
              0.8888888888888888,
              "#fdca26"
             ],
             [
              1,
              "#f0f921"
             ]
            ],
            "type": "histogram2d"
           }
          ],
          "histogram2dcontour": [
           {
            "colorbar": {
             "outlinewidth": 0,
             "ticks": ""
            },
            "colorscale": [
             [
              0,
              "#0d0887"
             ],
             [
              0.1111111111111111,
              "#46039f"
             ],
             [
              0.2222222222222222,
              "#7201a8"
             ],
             [
              0.3333333333333333,
              "#9c179e"
             ],
             [
              0.4444444444444444,
              "#bd3786"
             ],
             [
              0.5555555555555556,
              "#d8576b"
             ],
             [
              0.6666666666666666,
              "#ed7953"
             ],
             [
              0.7777777777777778,
              "#fb9f3a"
             ],
             [
              0.8888888888888888,
              "#fdca26"
             ],
             [
              1,
              "#f0f921"
             ]
            ],
            "type": "histogram2dcontour"
           }
          ],
          "mesh3d": [
           {
            "colorbar": {
             "outlinewidth": 0,
             "ticks": ""
            },
            "type": "mesh3d"
           }
          ],
          "parcoords": [
           {
            "line": {
             "colorbar": {
              "outlinewidth": 0,
              "ticks": ""
             }
            },
            "type": "parcoords"
           }
          ],
          "pie": [
           {
            "automargin": true,
            "type": "pie"
           }
          ],
          "scatter": [
           {
            "marker": {
             "colorbar": {
              "outlinewidth": 0,
              "ticks": ""
             }
            },
            "type": "scatter"
           }
          ],
          "scatter3d": [
           {
            "line": {
             "colorbar": {
              "outlinewidth": 0,
              "ticks": ""
             }
            },
            "marker": {
             "colorbar": {
              "outlinewidth": 0,
              "ticks": ""
             }
            },
            "type": "scatter3d"
           }
          ],
          "scattercarpet": [
           {
            "marker": {
             "colorbar": {
              "outlinewidth": 0,
              "ticks": ""
             }
            },
            "type": "scattercarpet"
           }
          ],
          "scattergeo": [
           {
            "marker": {
             "colorbar": {
              "outlinewidth": 0,
              "ticks": ""
             }
            },
            "type": "scattergeo"
           }
          ],
          "scattergl": [
           {
            "marker": {
             "colorbar": {
              "outlinewidth": 0,
              "ticks": ""
             }
            },
            "type": "scattergl"
           }
          ],
          "scattermapbox": [
           {
            "marker": {
             "colorbar": {
              "outlinewidth": 0,
              "ticks": ""
             }
            },
            "type": "scattermapbox"
           }
          ],
          "scatterpolar": [
           {
            "marker": {
             "colorbar": {
              "outlinewidth": 0,
              "ticks": ""
             }
            },
            "type": "scatterpolar"
           }
          ],
          "scatterpolargl": [
           {
            "marker": {
             "colorbar": {
              "outlinewidth": 0,
              "ticks": ""
             }
            },
            "type": "scatterpolargl"
           }
          ],
          "scatterternary": [
           {
            "marker": {
             "colorbar": {
              "outlinewidth": 0,
              "ticks": ""
             }
            },
            "type": "scatterternary"
           }
          ],
          "surface": [
           {
            "colorbar": {
             "outlinewidth": 0,
             "ticks": ""
            },
            "colorscale": [
             [
              0,
              "#0d0887"
             ],
             [
              0.1111111111111111,
              "#46039f"
             ],
             [
              0.2222222222222222,
              "#7201a8"
             ],
             [
              0.3333333333333333,
              "#9c179e"
             ],
             [
              0.4444444444444444,
              "#bd3786"
             ],
             [
              0.5555555555555556,
              "#d8576b"
             ],
             [
              0.6666666666666666,
              "#ed7953"
             ],
             [
              0.7777777777777778,
              "#fb9f3a"
             ],
             [
              0.8888888888888888,
              "#fdca26"
             ],
             [
              1,
              "#f0f921"
             ]
            ],
            "type": "surface"
           }
          ],
          "table": [
           {
            "cells": {
             "fill": {
              "color": "#EBF0F8"
             },
             "line": {
              "color": "white"
             }
            },
            "header": {
             "fill": {
              "color": "#C8D4E3"
             },
             "line": {
              "color": "white"
             }
            },
            "type": "table"
           }
          ]
         },
         "layout": {
          "annotationdefaults": {
           "arrowcolor": "#2a3f5f",
           "arrowhead": 0,
           "arrowwidth": 1
          },
          "coloraxis": {
           "colorbar": {
            "outlinewidth": 0,
            "ticks": ""
           }
          },
          "colorscale": {
           "diverging": [
            [
             0,
             "#8e0152"
            ],
            [
             0.1,
             "#c51b7d"
            ],
            [
             0.2,
             "#de77ae"
            ],
            [
             0.3,
             "#f1b6da"
            ],
            [
             0.4,
             "#fde0ef"
            ],
            [
             0.5,
             "#f7f7f7"
            ],
            [
             0.6,
             "#e6f5d0"
            ],
            [
             0.7,
             "#b8e186"
            ],
            [
             0.8,
             "#7fbc41"
            ],
            [
             0.9,
             "#4d9221"
            ],
            [
             1,
             "#276419"
            ]
           ],
           "sequential": [
            [
             0,
             "#0d0887"
            ],
            [
             0.1111111111111111,
             "#46039f"
            ],
            [
             0.2222222222222222,
             "#7201a8"
            ],
            [
             0.3333333333333333,
             "#9c179e"
            ],
            [
             0.4444444444444444,
             "#bd3786"
            ],
            [
             0.5555555555555556,
             "#d8576b"
            ],
            [
             0.6666666666666666,
             "#ed7953"
            ],
            [
             0.7777777777777778,
             "#fb9f3a"
            ],
            [
             0.8888888888888888,
             "#fdca26"
            ],
            [
             1,
             "#f0f921"
            ]
           ],
           "sequentialminus": [
            [
             0,
             "#0d0887"
            ],
            [
             0.1111111111111111,
             "#46039f"
            ],
            [
             0.2222222222222222,
             "#7201a8"
            ],
            [
             0.3333333333333333,
             "#9c179e"
            ],
            [
             0.4444444444444444,
             "#bd3786"
            ],
            [
             0.5555555555555556,
             "#d8576b"
            ],
            [
             0.6666666666666666,
             "#ed7953"
            ],
            [
             0.7777777777777778,
             "#fb9f3a"
            ],
            [
             0.8888888888888888,
             "#fdca26"
            ],
            [
             1,
             "#f0f921"
            ]
           ]
          },
          "colorway": [
           "#636efa",
           "#EF553B",
           "#00cc96",
           "#ab63fa",
           "#FFA15A",
           "#19d3f3",
           "#FF6692",
           "#B6E880",
           "#FF97FF",
           "#FECB52"
          ],
          "font": {
           "color": "#2a3f5f"
          },
          "geo": {
           "bgcolor": "white",
           "lakecolor": "white",
           "landcolor": "#E5ECF6",
           "showlakes": true,
           "showland": true,
           "subunitcolor": "white"
          },
          "hoverlabel": {
           "align": "left"
          },
          "hovermode": "closest",
          "mapbox": {
           "style": "light"
          },
          "paper_bgcolor": "white",
          "plot_bgcolor": "#E5ECF6",
          "polar": {
           "angularaxis": {
            "gridcolor": "white",
            "linecolor": "white",
            "ticks": ""
           },
           "bgcolor": "#E5ECF6",
           "radialaxis": {
            "gridcolor": "white",
            "linecolor": "white",
            "ticks": ""
           }
          },
          "scene": {
           "xaxis": {
            "backgroundcolor": "#E5ECF6",
            "gridcolor": "white",
            "gridwidth": 2,
            "linecolor": "white",
            "showbackground": true,
            "ticks": "",
            "zerolinecolor": "white"
           },
           "yaxis": {
            "backgroundcolor": "#E5ECF6",
            "gridcolor": "white",
            "gridwidth": 2,
            "linecolor": "white",
            "showbackground": true,
            "ticks": "",
            "zerolinecolor": "white"
           },
           "zaxis": {
            "backgroundcolor": "#E5ECF6",
            "gridcolor": "white",
            "gridwidth": 2,
            "linecolor": "white",
            "showbackground": true,
            "ticks": "",
            "zerolinecolor": "white"
           }
          },
          "shapedefaults": {
           "line": {
            "color": "#2a3f5f"
           }
          },
          "ternary": {
           "aaxis": {
            "gridcolor": "white",
            "linecolor": "white",
            "ticks": ""
           },
           "baxis": {
            "gridcolor": "white",
            "linecolor": "white",
            "ticks": ""
           },
           "bgcolor": "#E5ECF6",
           "caxis": {
            "gridcolor": "white",
            "linecolor": "white",
            "ticks": ""
           }
          },
          "title": {
           "x": 0.05
          },
          "xaxis": {
           "automargin": true,
           "gridcolor": "white",
           "linecolor": "white",
           "ticks": "",
           "title": {
            "standoff": 15
           },
           "zerolinecolor": "white",
           "zerolinewidth": 2
          },
          "yaxis": {
           "automargin": true,
           "gridcolor": "white",
           "linecolor": "white",
           "ticks": "",
           "title": {
            "standoff": 15
           },
           "zerolinecolor": "white",
           "zerolinewidth": 2
          }
         }
        }
       }
      },
      "text/html": [
       "<div>                            <div id=\"9906ec6c-4c2d-486e-8dcf-2813439fadd9\" class=\"plotly-graph-div\" style=\"height:525px; width:100%;\"></div>            <script type=\"text/javascript\">                require([\"plotly\"], function(Plotly) {                    window.PLOTLYENV=window.PLOTLYENV || {};                                    if (document.getElementById(\"9906ec6c-4c2d-486e-8dcf-2813439fadd9\")) {                    Plotly.newPlot(                        \"9906ec6c-4c2d-486e-8dcf-2813439fadd9\",                        [{\"fill\": \"toself\", \"name\": \"\\uc911\\uac04\\uac12\", \"r\": [4.493900323877735, 1.563694126213795, 2.543523660134479, 2.65574458160696, 2.134693817444084], \"theta\": [\"\\ubc24\\uae38\\uc548\\ub155\\uc9c0\\uc218\", \"Me\\ucf54\\ub178\\ubbf8\\uc9c0\\uc218\", \"\\uc720\\uc720\\uc790\\uc801\\uc9c0\\uc218\", \"\\ud1b5\\uadfc\\uc655\\uc9c0\\uc218\", \"\\uc2ac\\ub9ac\\ud37c\\uc9c0\\uc218\"], \"type\": \"scatterpolar\"}, {\"fill\": \"toself\", \"name\": \"\\uacf5\\ub9892\\ub3d9\", \"r\": [5.486918719915721, 1.596684776170045, 6.420723376148878, 4.944602645678531, 3.609722499588779], \"theta\": [\"\\ubc24\\uae38\\uc548\\ub155\\uc9c0\\uc218\", \"Me\\ucf54\\ub178\\ubbf8\\uc9c0\\uc218\", \"\\uc720\\uc720\\uc790\\uc801\\uc9c0\\uc218\", \"\\ud1b5\\uadfc\\uc655\\uc9c0\\uc218\", \"\\uc2ac\\ub9ac\\ud37c\\uc9c0\\uc218\"], \"type\": \"scatterpolar\"}],                        {\"polar\": {\"radialaxis\": {\"range\": [0, 7], \"visible\": true}}, \"showlegend\": false, \"template\": {\"data\": {\"bar\": [{\"error_x\": {\"color\": \"#2a3f5f\"}, \"error_y\": {\"color\": \"#2a3f5f\"}, \"marker\": {\"line\": {\"color\": \"#E5ECF6\", \"width\": 0.5}}, \"type\": \"bar\"}], \"barpolar\": [{\"marker\": {\"line\": {\"color\": \"#E5ECF6\", \"width\": 0.5}}, \"type\": \"barpolar\"}], \"carpet\": [{\"aaxis\": {\"endlinecolor\": \"#2a3f5f\", \"gridcolor\": \"white\", \"linecolor\": \"white\", \"minorgridcolor\": \"white\", \"startlinecolor\": \"#2a3f5f\"}, \"baxis\": {\"endlinecolor\": \"#2a3f5f\", \"gridcolor\": \"white\", \"linecolor\": \"white\", \"minorgridcolor\": \"white\", \"startlinecolor\": \"#2a3f5f\"}, \"type\": \"carpet\"}], \"choropleth\": [{\"colorbar\": {\"outlinewidth\": 0, \"ticks\": \"\"}, \"type\": \"choropleth\"}], \"contour\": [{\"colorbar\": {\"outlinewidth\": 0, \"ticks\": \"\"}, \"colorscale\": [[0.0, \"#0d0887\"], [0.1111111111111111, \"#46039f\"], [0.2222222222222222, \"#7201a8\"], [0.3333333333333333, \"#9c179e\"], [0.4444444444444444, \"#bd3786\"], [0.5555555555555556, \"#d8576b\"], [0.6666666666666666, \"#ed7953\"], [0.7777777777777778, \"#fb9f3a\"], [0.8888888888888888, \"#fdca26\"], [1.0, \"#f0f921\"]], \"type\": \"contour\"}], \"contourcarpet\": [{\"colorbar\": {\"outlinewidth\": 0, \"ticks\": \"\"}, \"type\": \"contourcarpet\"}], \"heatmap\": [{\"colorbar\": {\"outlinewidth\": 0, \"ticks\": \"\"}, \"colorscale\": [[0.0, \"#0d0887\"], [0.1111111111111111, \"#46039f\"], [0.2222222222222222, \"#7201a8\"], [0.3333333333333333, \"#9c179e\"], [0.4444444444444444, \"#bd3786\"], [0.5555555555555556, \"#d8576b\"], [0.6666666666666666, \"#ed7953\"], [0.7777777777777778, \"#fb9f3a\"], [0.8888888888888888, \"#fdca26\"], [1.0, \"#f0f921\"]], \"type\": \"heatmap\"}], \"heatmapgl\": [{\"colorbar\": {\"outlinewidth\": 0, \"ticks\": \"\"}, \"colorscale\": [[0.0, \"#0d0887\"], [0.1111111111111111, \"#46039f\"], [0.2222222222222222, \"#7201a8\"], [0.3333333333333333, \"#9c179e\"], [0.4444444444444444, \"#bd3786\"], [0.5555555555555556, \"#d8576b\"], [0.6666666666666666, \"#ed7953\"], [0.7777777777777778, \"#fb9f3a\"], [0.8888888888888888, \"#fdca26\"], [1.0, \"#f0f921\"]], \"type\": \"heatmapgl\"}], \"histogram\": [{\"marker\": {\"colorbar\": {\"outlinewidth\": 0, \"ticks\": \"\"}}, \"type\": \"histogram\"}], \"histogram2d\": [{\"colorbar\": {\"outlinewidth\": 0, \"ticks\": \"\"}, \"colorscale\": [[0.0, \"#0d0887\"], [0.1111111111111111, \"#46039f\"], [0.2222222222222222, \"#7201a8\"], [0.3333333333333333, \"#9c179e\"], [0.4444444444444444, \"#bd3786\"], [0.5555555555555556, \"#d8576b\"], [0.6666666666666666, \"#ed7953\"], [0.7777777777777778, \"#fb9f3a\"], [0.8888888888888888, \"#fdca26\"], [1.0, \"#f0f921\"]], \"type\": \"histogram2d\"}], \"histogram2dcontour\": [{\"colorbar\": {\"outlinewidth\": 0, \"ticks\": \"\"}, \"colorscale\": [[0.0, \"#0d0887\"], [0.1111111111111111, \"#46039f\"], [0.2222222222222222, \"#7201a8\"], [0.3333333333333333, \"#9c179e\"], [0.4444444444444444, \"#bd3786\"], [0.5555555555555556, \"#d8576b\"], [0.6666666666666666, \"#ed7953\"], [0.7777777777777778, \"#fb9f3a\"], [0.8888888888888888, \"#fdca26\"], [1.0, \"#f0f921\"]], \"type\": \"histogram2dcontour\"}], \"mesh3d\": [{\"colorbar\": {\"outlinewidth\": 0, \"ticks\": \"\"}, \"type\": \"mesh3d\"}], \"parcoords\": [{\"line\": {\"colorbar\": {\"outlinewidth\": 0, \"ticks\": \"\"}}, \"type\": \"parcoords\"}], \"pie\": [{\"automargin\": true, \"type\": \"pie\"}], \"scatter\": [{\"marker\": {\"colorbar\": {\"outlinewidth\": 0, \"ticks\": \"\"}}, \"type\": \"scatter\"}], \"scatter3d\": [{\"line\": {\"colorbar\": {\"outlinewidth\": 0, \"ticks\": \"\"}}, \"marker\": {\"colorbar\": {\"outlinewidth\": 0, \"ticks\": \"\"}}, \"type\": \"scatter3d\"}], \"scattercarpet\": [{\"marker\": {\"colorbar\": {\"outlinewidth\": 0, \"ticks\": \"\"}}, \"type\": \"scattercarpet\"}], \"scattergeo\": [{\"marker\": {\"colorbar\": {\"outlinewidth\": 0, \"ticks\": \"\"}}, \"type\": \"scattergeo\"}], \"scattergl\": [{\"marker\": {\"colorbar\": {\"outlinewidth\": 0, \"ticks\": \"\"}}, \"type\": \"scattergl\"}], \"scattermapbox\": [{\"marker\": {\"colorbar\": {\"outlinewidth\": 0, \"ticks\": \"\"}}, \"type\": \"scattermapbox\"}], \"scatterpolar\": [{\"marker\": {\"colorbar\": {\"outlinewidth\": 0, \"ticks\": \"\"}}, \"type\": \"scatterpolar\"}], \"scatterpolargl\": [{\"marker\": {\"colorbar\": {\"outlinewidth\": 0, \"ticks\": \"\"}}, \"type\": \"scatterpolargl\"}], \"scatterternary\": [{\"marker\": {\"colorbar\": {\"outlinewidth\": 0, \"ticks\": \"\"}}, \"type\": \"scatterternary\"}], \"surface\": [{\"colorbar\": {\"outlinewidth\": 0, \"ticks\": \"\"}, \"colorscale\": [[0.0, \"#0d0887\"], [0.1111111111111111, \"#46039f\"], [0.2222222222222222, \"#7201a8\"], [0.3333333333333333, \"#9c179e\"], [0.4444444444444444, \"#bd3786\"], [0.5555555555555556, \"#d8576b\"], [0.6666666666666666, \"#ed7953\"], [0.7777777777777778, \"#fb9f3a\"], [0.8888888888888888, \"#fdca26\"], [1.0, \"#f0f921\"]], \"type\": \"surface\"}], \"table\": [{\"cells\": {\"fill\": {\"color\": \"#EBF0F8\"}, \"line\": {\"color\": \"white\"}}, \"header\": {\"fill\": {\"color\": \"#C8D4E3\"}, \"line\": {\"color\": \"white\"}}, \"type\": \"table\"}]}, \"layout\": {\"annotationdefaults\": {\"arrowcolor\": \"#2a3f5f\", \"arrowhead\": 0, \"arrowwidth\": 1}, \"coloraxis\": {\"colorbar\": {\"outlinewidth\": 0, \"ticks\": \"\"}}, \"colorscale\": {\"diverging\": [[0, \"#8e0152\"], [0.1, \"#c51b7d\"], [0.2, \"#de77ae\"], [0.3, \"#f1b6da\"], [0.4, \"#fde0ef\"], [0.5, \"#f7f7f7\"], [0.6, \"#e6f5d0\"], [0.7, \"#b8e186\"], [0.8, \"#7fbc41\"], [0.9, \"#4d9221\"], [1, \"#276419\"]], \"sequential\": [[0.0, \"#0d0887\"], [0.1111111111111111, \"#46039f\"], [0.2222222222222222, \"#7201a8\"], [0.3333333333333333, \"#9c179e\"], [0.4444444444444444, \"#bd3786\"], [0.5555555555555556, \"#d8576b\"], [0.6666666666666666, \"#ed7953\"], [0.7777777777777778, \"#fb9f3a\"], [0.8888888888888888, \"#fdca26\"], [1.0, \"#f0f921\"]], \"sequentialminus\": [[0.0, \"#0d0887\"], [0.1111111111111111, \"#46039f\"], [0.2222222222222222, \"#7201a8\"], [0.3333333333333333, \"#9c179e\"], [0.4444444444444444, \"#bd3786\"], [0.5555555555555556, \"#d8576b\"], [0.6666666666666666, \"#ed7953\"], [0.7777777777777778, \"#fb9f3a\"], [0.8888888888888888, \"#fdca26\"], [1.0, \"#f0f921\"]]}, \"colorway\": [\"#636efa\", \"#EF553B\", \"#00cc96\", \"#ab63fa\", \"#FFA15A\", \"#19d3f3\", \"#FF6692\", \"#B6E880\", \"#FF97FF\", \"#FECB52\"], \"font\": {\"color\": \"#2a3f5f\"}, \"geo\": {\"bgcolor\": \"white\", \"lakecolor\": \"white\", \"landcolor\": \"#E5ECF6\", \"showlakes\": true, \"showland\": true, \"subunitcolor\": \"white\"}, \"hoverlabel\": {\"align\": \"left\"}, \"hovermode\": \"closest\", \"mapbox\": {\"style\": \"light\"}, \"paper_bgcolor\": \"white\", \"plot_bgcolor\": \"#E5ECF6\", \"polar\": {\"angularaxis\": {\"gridcolor\": \"white\", \"linecolor\": \"white\", \"ticks\": \"\"}, \"bgcolor\": \"#E5ECF6\", \"radialaxis\": {\"gridcolor\": \"white\", \"linecolor\": \"white\", \"ticks\": \"\"}}, \"scene\": {\"xaxis\": {\"backgroundcolor\": \"#E5ECF6\", \"gridcolor\": \"white\", \"gridwidth\": 2, \"linecolor\": \"white\", \"showbackground\": true, \"ticks\": \"\", \"zerolinecolor\": \"white\"}, \"yaxis\": {\"backgroundcolor\": \"#E5ECF6\", \"gridcolor\": \"white\", \"gridwidth\": 2, \"linecolor\": \"white\", \"showbackground\": true, \"ticks\": \"\", \"zerolinecolor\": \"white\"}, \"zaxis\": {\"backgroundcolor\": \"#E5ECF6\", \"gridcolor\": \"white\", \"gridwidth\": 2, \"linecolor\": \"white\", \"showbackground\": true, \"ticks\": \"\", \"zerolinecolor\": \"white\"}}, \"shapedefaults\": {\"line\": {\"color\": \"#2a3f5f\"}}, \"ternary\": {\"aaxis\": {\"gridcolor\": \"white\", \"linecolor\": \"white\", \"ticks\": \"\"}, \"baxis\": {\"gridcolor\": \"white\", \"linecolor\": \"white\", \"ticks\": \"\"}, \"bgcolor\": \"#E5ECF6\", \"caxis\": {\"gridcolor\": \"white\", \"linecolor\": \"white\", \"ticks\": \"\"}}, \"title\": {\"x\": 0.05}, \"xaxis\": {\"automargin\": true, \"gridcolor\": \"white\", \"linecolor\": \"white\", \"ticks\": \"\", \"title\": {\"standoff\": 15}, \"zerolinecolor\": \"white\", \"zerolinewidth\": 2}, \"yaxis\": {\"automargin\": true, \"gridcolor\": \"white\", \"linecolor\": \"white\", \"ticks\": \"\", \"title\": {\"standoff\": 15}, \"zerolinecolor\": \"white\", \"zerolinewidth\": 2}}}},                        {\"responsive\": true}                    ).then(function(){\n",
       "                            \n",
       "var gd = document.getElementById('9906ec6c-4c2d-486e-8dcf-2813439fadd9');\n",
       "var x = new MutationObserver(function (mutations, observer) {{\n",
       "        var display = window.getComputedStyle(gd).display;\n",
       "        if (!display || display === 'none') {{\n",
       "            console.log([gd, 'removed!']);\n",
       "            Plotly.purge(gd);\n",
       "            observer.disconnect();\n",
       "        }}\n",
       "}});\n",
       "\n",
       "// Listen for the removal of the full notebook cells\n",
       "var notebookContainer = gd.closest('#notebook-container');\n",
       "if (notebookContainer) {{\n",
       "    x.observe(notebookContainer, {childList: true});\n",
       "}}\n",
       "\n",
       "// Listen for the clearing of the current output cell\n",
       "var outputEl = gd.closest('.output');\n",
       "if (outputEl) {{\n",
       "    x.observe(outputEl, {childList: true});\n",
       "}}\n",
       "\n",
       "                        })                };                });            </script>        </div>"
      ]
     },
     "metadata": {},
     "output_type": "display_data"
    }
   ],
   "source": [
    "# 두개의 그래프 동시에 겹쳐보기\n",
    "\n",
    "import plotly.express as px\n",
    "import plotly.graph_objects as go\n",
    "\n",
    "fig = go.Figure()\n",
    "\n",
    "# 기존 중간값 데이터 그래프로 깔아주기\n",
    "fig.add_trace(go.Scatterpolar(\n",
    "      r=df2['중간값'],\n",
    "      theta=df2.index,\n",
    "      fill='toself',\n",
    "      name='중간값'\n",
    "))\n",
    "\n",
    "# 그위에 특정동 데이터 깔아주기\n",
    "fig.add_trace(go.Scatterpolar(\n",
    "      r=df2['공릉2동'],\n",
    "      theta=df2.index,\n",
    "      fill='toself',\n",
    "      name='공릉2동'\n",
    "))\n",
    "\n",
    "fig.update_layout(\n",
    "  polar=dict(\n",
    "    radialaxis=dict(\n",
    "      visible=True,\n",
    "      range=[0, 7], # 점수 만점 설정\n",
    "    )),\n",
    "  showlegend=False\n",
    ")\n",
    "\n",
    "#polar = dict(\n",
    "#bgcolor=’#1e2130’\n",
    "#),\n",
    "#title = ‘MyRadar’,\n",
    "#paper_bgcolor=’#1e2130’\n",
    "\n",
    "fig.show()"
   ]
  },
  {
   "cell_type": "code",
   "execution_count": 25,
   "metadata": {},
   "outputs": [],
   "source": [
    "import numpy as np\n",
    "import pandas as pd\n",
    "import matplotlib.pyplot as plt\n",
    "from math import pi\n",
    "\n",
    "plt.rcParams[\"font.family\"] = 'Malgun Gothic'\n",
    "plt.rcParams[\"font.size\"] = 15"
   ]
  },
  {
   "cell_type": "code",
   "execution_count": 29,
   "metadata": {},
   "outputs": [],
   "source": [
    "df2 = df2.transpose().reset_index()"
   ]
  },
  {
   "cell_type": "code",
   "execution_count": 30,
   "metadata": {},
   "outputs": [
    {
     "data": {
      "text/html": [
       "<div>\n",
       "<style scoped>\n",
       "    .dataframe tbody tr th:only-of-type {\n",
       "        vertical-align: middle;\n",
       "    }\n",
       "\n",
       "    .dataframe tbody tr th {\n",
       "        vertical-align: top;\n",
       "    }\n",
       "\n",
       "    .dataframe thead th {\n",
       "        text-align: right;\n",
       "    }\n",
       "</style>\n",
       "<table border=\"1\" class=\"dataframe\">\n",
       "  <thead>\n",
       "    <tr style=\"text-align: right;\">\n",
       "      <th></th>\n",
       "      <th>dong</th>\n",
       "      <th>밤길안녕지수</th>\n",
       "      <th>Me코노미지수</th>\n",
       "      <th>유유자적지수</th>\n",
       "      <th>통근왕지수</th>\n",
       "      <th>슬리퍼지수</th>\n",
       "    </tr>\n",
       "  </thead>\n",
       "  <tbody>\n",
       "    <tr>\n",
       "      <th>0</th>\n",
       "      <td>공릉2동</td>\n",
       "      <td>5.486919</td>\n",
       "      <td>1.596685</td>\n",
       "      <td>6.420723</td>\n",
       "      <td>4.944603</td>\n",
       "      <td>3.609722</td>\n",
       "    </tr>\n",
       "    <tr>\n",
       "      <th>1</th>\n",
       "      <td>흑석동</td>\n",
       "      <td>5.393207</td>\n",
       "      <td>2.091331</td>\n",
       "      <td>6.093730</td>\n",
       "      <td>6.227622</td>\n",
       "      <td>2.628626</td>\n",
       "    </tr>\n",
       "    <tr>\n",
       "      <th>2</th>\n",
       "      <td>공덕동</td>\n",
       "      <td>8.182793</td>\n",
       "      <td>2.689852</td>\n",
       "      <td>2.173490</td>\n",
       "      <td>2.810663</td>\n",
       "      <td>3.080855</td>\n",
       "    </tr>\n",
       "    <tr>\n",
       "      <th>3</th>\n",
       "      <td>중간값</td>\n",
       "      <td>4.493900</td>\n",
       "      <td>1.563694</td>\n",
       "      <td>2.543524</td>\n",
       "      <td>2.655745</td>\n",
       "      <td>2.134694</td>\n",
       "    </tr>\n",
       "  </tbody>\n",
       "</table>\n",
       "</div>"
      ],
      "text/plain": [
       "   dong    밤길안녕지수   Me코노미지수    유유자적지수     통근왕지수     슬리퍼지수\n",
       "0  공릉2동  5.486919  1.596685  6.420723  4.944603  3.609722\n",
       "1   흑석동  5.393207  2.091331  6.093730  6.227622  2.628626\n",
       "2   공덕동  8.182793  2.689852  2.173490  2.810663  3.080855\n",
       "3   중간값  4.493900  1.563694  2.543524  2.655745  2.134694"
      ]
     },
     "execution_count": 30,
     "metadata": {},
     "output_type": "execute_result"
    }
   ],
   "source": [
    "df2"
   ]
  },
  {
   "cell_type": "markdown",
   "metadata": {},
   "source": [
    "## matplotlib 시각화"
   ]
  },
  {
   "cell_type": "code",
   "execution_count": 34,
   "metadata": {},
   "outputs": [],
   "source": [
    "# 기본 처리\n",
    "\n",
    "categories = list(df2)[1:]\n",
    "\n",
    "val_c1 = df2.loc[0].drop('dong').values.flatten().tolist() #dong 칼럼 설정\n",
    "val_c1 += val_c1[:1]\n",
    "\n",
    "angles = [n / float(len(categories)) * 2 * pi for n in range(len(categories))  ]\n",
    "angles += angles [:1]"
   ]
  },
  {
   "cell_type": "code",
   "execution_count": 23,
   "metadata": {},
   "outputs": [
    {
     "ename": "NameError",
     "evalue": "name 'plt' is not defined",
     "output_type": "error",
     "traceback": [
      "\u001b[1;31m---------------------------------------------------------------------------\u001b[0m",
      "\u001b[1;31mNameError\u001b[0m                                 Traceback (most recent call last)",
      "\u001b[1;32m<ipython-input-23-1d2c1db5ed93>\u001b[0m in \u001b[0;36m<module>\u001b[1;34m\u001b[0m\n\u001b[1;32m----> 1\u001b[1;33m \u001b[0mfix\u001b[0m\u001b[1;33m,\u001b[0m \u001b[0max\u001b[0m \u001b[1;33m=\u001b[0m \u001b[0mplt\u001b[0m\u001b[1;33m.\u001b[0m\u001b[0msubplots\u001b[0m\u001b[1;33m(\u001b[0m\u001b[0mnrows\u001b[0m\u001b[1;33m=\u001b[0m\u001b[1;36m1\u001b[0m\u001b[1;33m,\u001b[0m \u001b[0mncols\u001b[0m\u001b[1;33m=\u001b[0m\u001b[1;36m1\u001b[0m\u001b[1;33m,\u001b[0m \u001b[0mfigsize\u001b[0m\u001b[1;33m=\u001b[0m\u001b[1;33m(\u001b[0m\u001b[1;36m8\u001b[0m\u001b[1;33m,\u001b[0m\u001b[1;36m8\u001b[0m\u001b[1;33m)\u001b[0m\u001b[1;33m,\u001b[0m \u001b[0msubplot_kw\u001b[0m\u001b[1;33m=\u001b[0m\u001b[0mdict\u001b[0m\u001b[1;33m(\u001b[0m\u001b[0mpolar\u001b[0m\u001b[1;33m=\u001b[0m\u001b[1;32mTrue\u001b[0m\u001b[1;33m)\u001b[0m\u001b[1;33m)\u001b[0m\u001b[1;33m\u001b[0m\u001b[1;33m\u001b[0m\u001b[0m\n\u001b[0m\u001b[0;32m      2\u001b[0m \u001b[1;33m\u001b[0m\u001b[0m\n\u001b[0;32m      3\u001b[0m \u001b[0mplt\u001b[0m\u001b[1;33m.\u001b[0m\u001b[0mtitle\u001b[0m\u001b[1;33m(\u001b[0m\u001b[0mdf2\u001b[0m\u001b[1;33m[\u001b[0m\u001b[1;34m'dong'\u001b[0m\u001b[1;33m]\u001b[0m\u001b[1;33m[\u001b[0m\u001b[1;36m0\u001b[0m\u001b[1;33m]\u001b[0m\u001b[1;33m)\u001b[0m \u001b[1;31m# 타이틀 이름 설정 -> dong이름으로 함\u001b[0m\u001b[1;33m\u001b[0m\u001b[1;33m\u001b[0m\u001b[0m\n\u001b[0;32m      4\u001b[0m \u001b[0mplt\u001b[0m\u001b[1;33m.\u001b[0m\u001b[0mxticks\u001b[0m\u001b[1;33m(\u001b[0m\u001b[0mangles\u001b[0m\u001b[1;33m[\u001b[0m\u001b[1;33m:\u001b[0m\u001b[1;33m-\u001b[0m\u001b[1;36m1\u001b[0m\u001b[1;33m]\u001b[0m\u001b[1;33m,\u001b[0m\u001b[0mcategories\u001b[0m\u001b[1;33m,\u001b[0m\u001b[0mcolor\u001b[0m\u001b[1;33m=\u001b[0m\u001b[1;34m'grey'\u001b[0m\u001b[1;33m,\u001b[0m\u001b[0msize\u001b[0m\u001b[1;33m=\u001b[0m\u001b[1;36m15\u001b[0m\u001b[1;33m)\u001b[0m\u001b[1;33m\u001b[0m\u001b[1;33m\u001b[0m\u001b[0m\n\u001b[0;32m      5\u001b[0m \u001b[0mplt\u001b[0m\u001b[1;33m.\u001b[0m\u001b[0myticks\u001b[0m\u001b[1;33m(\u001b[0m\u001b[0mnp\u001b[0m\u001b[1;33m.\u001b[0m\u001b[0marange\u001b[0m\u001b[1;33m(\u001b[0m\u001b[1;36m1\u001b[0m\u001b[1;33m,\u001b[0m\u001b[1;36m10\u001b[0m\u001b[1;33m)\u001b[0m\u001b[1;33m,\u001b[0m \u001b[1;33m[\u001b[0m\u001b[1;34m'1'\u001b[0m\u001b[1;33m,\u001b[0m\u001b[1;34m'2'\u001b[0m\u001b[1;33m,\u001b[0m\u001b[1;34m'3'\u001b[0m\u001b[1;33m,\u001b[0m\u001b[1;34m'4'\u001b[0m\u001b[1;33m,\u001b[0m\u001b[1;34m'5'\u001b[0m\u001b[1;33m,\u001b[0m\u001b[1;34m'6'\u001b[0m\u001b[1;33m,\u001b[0m\u001b[1;34m'7'\u001b[0m\u001b[1;33m,\u001b[0m\u001b[1;34m'8'\u001b[0m\u001b[1;33m,\u001b[0m\u001b[1;34m'9'\u001b[0m\u001b[1;33m]\u001b[0m\u001b[1;33m,\u001b[0m\u001b[0mcolor\u001b[0m\u001b[1;33m=\u001b[0m\u001b[1;34m'grey'\u001b[0m\u001b[1;33m,\u001b[0m\u001b[0msize\u001b[0m\u001b[1;33m=\u001b[0m\u001b[1;36m12\u001b[0m\u001b[1;33m)\u001b[0m \u001b[1;31m# 백그라운드 설정 / 10점 만점 기준\u001b[0m\u001b[1;33m\u001b[0m\u001b[1;33m\u001b[0m\u001b[0m\n",
      "\u001b[1;31mNameError\u001b[0m: name 'plt' is not defined"
     ]
    }
   ],
   "source": [
    "fix, ax = plt.subplots(nrows=1, ncols=1, figsize=(8,8), subplot_kw=dict(polar=True))\n",
    "\n",
    "plt.title(df2['dong'][0]) # 타이틀 이름 설정 -> dong이름으로 함\n",
    "plt.xticks(angles[:-1],categories,color='grey',size=15)\n",
    "plt.yticks(np.arange(1,10), ['1','2','3','4','5','6','7','8','9'],color='grey',size=12) # 백그라운드 설정 / 10점 만점 기준\n",
    "plt.ylim(0,10) # 10점으로 단위 생성\n",
    "ax.set_rlabel_position(30)\n",
    "\n",
    "# 특정 동 시각화\n",
    "val_c1 = df2.loc[0].drop('dong').values.flatten().tolist()\n",
    "val_c1 += val_c1[:1] \n",
    "ax.plot(angles, val_c1, linewidth=1, linestyle='solid', label='공릉2동') \n",
    "ax.fill(angles, val_c1, 'skyblue', alpha=0.4)\n",
    "\n",
    "# 중간값 시각화\n",
    "val_c2 = df2.loc[3].drop('dong').values.flatten().tolist() # 3번째 행으로 설정(중간값 행)\n",
    "val_c2 += val_c2[:1]\n",
    "ax.plot(angles, val_c2, linewidth=1, linestyle='solid', label='중간값')\n",
    "ax.fill(angles, val_c2, 'lightpink', alpha=0.4)\n",
    "\n",
    "plt.legend(loc='upper right', bbox_to_anchor=(0.1, 0.1))\n",
    "plt.show()"
   ]
  },
  {
   "cell_type": "code",
   "execution_count": 56,
   "metadata": {},
   "outputs": [
    {
     "data": {
      "image/png": "[encoded data removed]",
      "text/plain": [
       "<Figure size 576x576 with 1 Axes>"
      ]
     },
     "metadata": {
      "needs_background": "dark"
     },
     "output_type": "display_data"
    }
   ],
   "source": [
    "fix, ax = plt.subplots(nrows=1, ncols=1, figsize=(8,8), subplot_kw=dict(polar=True))\n",
    "\n",
    "plt.title(df2['dong'][1])\n",
    "plt.xticks(angles[:-1],categories,color='grey',size=12)\n",
    "plt.yticks(np.arange(1,10), ['1','2','3','4','5','6','7','8','9'],color='grey',size=12)\n",
    "plt.ylim(0,10)\n",
    "ax.set_rlabel_position(30)\n",
    "\n",
    "val_c1 = df2.loc[1].drop('dong').values.flatten().tolist() \n",
    "val_c1 += val_c1[:1]\n",
    "ax.plot(angles, val_c1, linewidth=1, linestyle='solid', label='흑석동')\n",
    "ax.fill(angles, val_c1, 'skyblue', alpha=0.4)\n",
    "\n",
    "val_c2 = df2.loc[3].drop('dong').values.flatten().tolist()\n",
    "val_c2 += val_c2[:1]\n",
    "ax.plot(angles, val_c2, linewidth=1, linestyle='solid', label='중간값')\n",
    "ax.fill(angles, val_c2, 'lightpink', alpha=0.4)\n",
    "\n",
    "plt.legend(loc='upper right', bbox_to_anchor=(0.1, 0.1))\n",
    "plt.show()"
   ]
  },
  {
   "cell_type": "code",
   "execution_count": 57,
   "metadata": {},
   "outputs": [
    {
     "data": {
      "image/png": "[encoded data removed]",
      "text/plain": [
       "<Figure size 576x576 with 1 Axes>"
      ]
     },
     "metadata": {
      "needs_background": "dark"
     },
     "output_type": "display_data"
    }
   ],
   "source": [
    "fix, ax = plt.subplots(nrows=1, ncols=1, figsize=(8,8), subplot_kw=dict(polar=True))\n",
    "\n",
    "plt.title(df2['dong'][2])\n",
    "plt.xticks(angles[:-1],categories,color='grey',size=12)\n",
    "plt.yticks(np.arange(1,10), ['1','2','3','4','5','6','7','8','9'],color='grey',size=12)\n",
    "plt.ylim(0,10)\n",
    "ax.set_rlabel_position(30)\n",
    "\n",
    "val_c1 = df2.loc[2].drop('dong').values.flatten().tolist() \n",
    "val_c1 += val_c1[:1]\n",
    "ax.plot(angles, val_c1, linewidth=1, linestyle='solid', label='공덕동')\n",
    "ax.fill(angles, val_c1, 'skyblue', alpha=0.4)\n",
    "\n",
    "val_c2 = df2.loc[3].drop('dong').values.flatten().tolist()\n",
    "val_c2 += val_c2[:1]\n",
    "ax.plot(angles, val_c2, linewidth=1, linestyle='solid', label='중간값')\n",
    "ax.fill(angles, val_c2, 'lightpink', alpha=0.4)\n",
    "\n",
    "plt.legend(loc='upper right', bbox_to_anchor=(0.1, 0.1))\n",
    "plt.show()"
   ]
  },
  {
   "cell_type": "code",
   "execution_count": null,
   "metadata": {},
   "outputs": [],
   "source": []
  }
 ],
 "metadata": {
  "kernelspec": {
   "display_name": "Python 3",
   "language": "python",
   "name": "python3"
  },
  "language_info": {
   "codemirror_mode": {
    "name": "ipython",
    "version": 3
   },
   "file_extension": ".py",
   "mimetype": "text/x-python",
   "name": "python",
   "nbconvert_exporter": "python",
   "pygments_lexer": "ipython3",
   "version": "3.7.7"
  }
 },
 "nbformat": 4,
 "nbformat_minor": 4
}
